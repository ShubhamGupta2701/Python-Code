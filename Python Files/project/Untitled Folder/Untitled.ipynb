{
 "cells": [
  {
   "cell_type": "code",
   "execution_count": null,
   "id": "ec83405f-028f-4465-b91a-aaf65a35ad38",
   "metadata": {},
   "outputs": [],
   "source": [
    "c = int(input(\" Enter temprature in celcius: \"))\n",
    "f =  9*(c/5)+ 32\n",
    "print(f)"
   ]
  },
  {
   "cell_type": "code",
   "execution_count": null,
   "id": "a0787e0b-37ec-40a0-a0b2-ff55fc3eb516",
   "metadata": {},
   "outputs": [],
   "source": [
    "r = int(input(\"Enter the radius of the circle: \"))\n",
    "area = 2*3.14*r\n",
    "print(area)"
   ]
  },
  {
   "cell_type": "code",
   "execution_count": null,
   "id": "cbae4b86-5590-4dee-a4af-adeabc4e114a",
   "metadata": {},
   "outputs": [],
   "source": [
    "s_no = int(input(\"Enter seat no. : \"))\n",
    "if(s_no % 8 == 1 or s_no % 8 ==4):\n",
    "    print(\"LB\")\n",
    "elif(s_no % 8 == 2 or s_no % 8 == 5):\n",
    "    print(\"MB\")\n",
    "elif(s_no % 8 == 3 or s_no % 8 == 6):\n",
    "    print(\"UB\")\n",
    "elif(s_no % 8 == 7):\n",
    "    print(\"SL\")\n",
    "else:\n",
    "    print(\"SU\")"
   ]
  },
  {
   "cell_type": "code",
   "execution_count": null,
   "id": "0e4df752-5e04-4cce-b4cd-e28f312c5e96",
   "metadata": {},
   "outputs": [],
   "source": [
    "t_l_x = int(input())\n",
    "t_l_y = int(input())\n",
    "b_r_x = int(input())\n",
    "b_r_y = int(input())\n",
    "# t_l_x,t_l_y,b_r_x,b_r_y = int(input())\n",
    "l = abs(b_r_x-t_l_x)\n",
    "b = abs(b_r_y-t_l_y)\n",
    "print(l,b)\n",
    "area = l*b\n",
    "print(area)\n"
   ]
  },
  {
   "cell_type": "code",
   "execution_count": null,
   "id": "e206077b-4179-470d-89e9-a93462d753e8",
   "metadata": {},
   "outputs": [],
   "source": [
    "a = int(input())\n",
    "b = int(input())\n",
    "c = int(input())\n",
    "if(a == b == c):\n",
    "    print(\"Equilateral triangle\")\n",
    "elif(a == b != c or a != b == c or a!=c == b):\n",
    "    print(\"Isoselous triangle\")\n",
    "elif(a^2 == b^2 + c^2 or b^2 == a^2 + c^2 or c^2 == a^2 + b^2):\n",
    "    print(\"Right angled triangle\")\n",
    "else:\n",
    "    print(\"Ordinary triangle\")"
   ]
  },
  {
   "cell_type": "code",
   "execution_count": 22,
   "id": "efea8b42-97de-476f-ab43-c61fa443c305",
   "metadata": {},
   "outputs": [
    {
     "data": {
      "text/plain": [
       "{'ang', 'ay', 'ba', 'c', 'nah', 'ra', 'raj', 'su'}"
      ]
     },
     "execution_count": 22,
     "metadata": {},
     "output_type": "execute_result"
    }
   ],
   "source": [
    "m = {'raj','ay','ab','kad','u','na','amr','ang','av'}\n",
    "e = {'u','amr','su','nah','avi','su','kad'}\n",
    "p = {'c','ba','ra','avi','u','na','ab','av'}\n",
    "m.intersection(e,p)\n",
    "e.difference(m.union(p))\n",
    "m.intersection(e).difference(p)\n",
    "m.intersection(e).union(e.intersection(p).union(p.intersection(m))) - m.intersection(e,p)\n",
    "m.intersection(e).union(e.intersection(p).union(p.intersection(m)))\n",
    "m.union(e,p) - m.intersection(e).union(e.intersection(p).union(p.intersection(m)))"
   ]
  },
  {
   "cell_type": "code",
   "execution_count": 41,
   "id": "cb2d7712-83ac-4638-843b-08070fc2ba5f",
   "metadata": {},
   "outputs": [
    {
     "name": "stdout",
     "output_type": "stream",
     "text": [
      "55296\n",
      "9\n",
      "1 3\n",
      "1 3\n",
      "1 3\n",
      "2 1\n",
      "4 3\n",
      "4 3\n",
      "4 3\n",
      "6 1\n",
      "8 1\n",
      "9 1\n"
     ]
    }
   ],
   "source": [
    "l = [1,2,1,1,4,8,6,4,9,4]\n",
    "ad = 1\n",
    "for i in l:\n",
    "    ad = ad*i\n",
    "print(ad)\n",
    "l.sort()\n",
    "print(l[-1])\n",
    "n = 0\n",
    "while(n<10):\n",
    "    count = 0\n",
    "    num = l[n]\n",
    "    for x in range(10):\n",
    "        if(num == l[x]):\n",
    "            count = count + 1\n",
    "    if(count % 2 != 0):\n",
    "        print(num,count)\n",
    "    n = n+1"
   ]
  },
  {
   "cell_type": "code",
   "execution_count": 1,
   "id": "696bd049-882b-4fc9-8d8a-158040eec14e",
   "metadata": {},
   "outputs": [],
   "source": [
    "class time:\n",
    "    def __init__(self,hours,mins):\n",
    "        self.hours = hours\n",
    "        self.mins = mins\n",
    "    def total(self,*args,**kwargs):\n",
    "        print(self.hours + self.args)\n",
    "        print(self.mins + self.kwargs)\n",
    "        "
   ]
  },
  {
   "cell_type": "code",
   "execution_count": 2,
   "id": "246ef260-821c-4864-abe7-7e7021d9c101",
   "metadata": {},
   "outputs": [],
   "source": [
    "t = time(3,15)"
   ]
  },
  {
   "cell_type": "code",
   "execution_count": 3,
   "id": "21e76917-06d5-4c7d-bf0e-2b2e2b21b7e7",
   "metadata": {},
   "outputs": [],
   "source": [
    "t1 = time(2,13)\n"
   ]
  },
  {
   "cell_type": "code",
   "execution_count": null,
   "id": "e4c476a0-fef5-43a4-8a0e-180366134e2e",
   "metadata": {},
   "outputs": [],
   "source": []
  }
 ],
 "metadata": {
  "kernelspec": {
   "display_name": "Python 3 (ipykernel)",
   "language": "python",
   "name": "python3"
  },
  "language_info": {
   "codemirror_mode": {
    "name": "ipython",
    "version": 3
   },
   "file_extension": ".py",
   "mimetype": "text/x-python",
   "name": "python",
   "nbconvert_exporter": "python",
   "pygments_lexer": "ipython3",
   "version": "3.9.9"
  }
 },
 "nbformat": 4,
 "nbformat_minor": 5
}
