{
 "cells": [
  {
   "cell_type": "code",
   "execution_count": 14,
   "id": "c1d421c3-05dd-42d0-97d3-77a1904a4334",
   "metadata": {},
   "outputs": [
    {
     "ename": "SyntaxError",
     "evalue": "'return' outside function (Temp/ipykernel_12344/937550419.py, line 37)",
     "output_type": "error",
     "traceback": [
      "\u001b[1;36m  File \u001b[1;32m\"C:\\Users\\sg628\\AppData\\Local\\Temp/ipykernel_12344/937550419.py\"\u001b[1;36m, line \u001b[1;32m37\u001b[0m\n\u001b[1;33m    return new_proof\u001b[0m\n\u001b[1;37m    ^\u001b[0m\n\u001b[1;31mSyntaxError\u001b[0m\u001b[1;31m:\u001b[0m 'return' outside function\n"
     ]
    }
   ],
   "source": [
    "import datetime\n",
    "import json\n",
    "import hashlib\n",
    "from flask import Flask, jsonify\n",
    "\n",
    "\n",
    "class Blockchain:\n",
    "    def _init_(self):\n",
    "        self.chain = []\n",
    "        self.create_blockchain(proof=1, previous_hash='0')\n",
    "\n",
    "    def create_blockchain(self, proof, previous_hash):\n",
    "        block = {\n",
    "            'index': len(self.chain) + 1,\n",
    "            'timestamp': str(datetime.datetime.now()),\n",
    "            'proof': proof,\n",
    "            'previous_hash': previous_hash\n",
    "        }\n",
    "        self.chain.append(block)\n",
    "        return block\n",
    "    def get_previous_block(self):\n",
    "        last_block = self.chain[-1]\n",
    "        return last_block\n",
    "    def proof_of_work(self, previous_proof):\n",
    "        new_proof = 1\n",
    "       # status of proof of work\n",
    "        check_proof = False\n",
    "    while check_proof is False:\n",
    "           # problem and algorithm based off the previous proof and new proof\n",
    "        hash_operation = hashlib.sha256(str(new_proof * 2 - previous_proof * 2).encode()).hexdigest()\n",
    "           # check miners solution to problem, by using miners proof in cryptographic encryption\n",
    "           # if miners proof results in 4 leading zero's in the hash operation, then:\n",
    "        if hash_operation[:4] == '0000':\n",
    "            check_proof = True\n",
    "        else:\n",
    "            new_proof = new_proof + 1\n",
    "        return new_proof\n",
    "\n",
    "   # generate a hash of an entire block\n",
    "     \n",
    "    def hash(self, block):\n",
    "        encoded_block = json.dumps(block, sort_keys=True).encode()\n",
    "        return hashlib.sha256(encoded_block).hexdigest()\n",
    "\n",
    "   # check if the blockchain is valid\n",
    "    def is_chain_valid(self, chain):\n",
    "       # get the first block in the chain and it serves as the previous block\n",
    "        previous_block = chain[0]\n",
    "       # an index of the blocks in the chain for iteration\n",
    "        block_index = 1\n",
    "    while block_index < len(chain):\n",
    "        block = chain[block_index]\n",
    "           # check if the current block link to previous block has is the same as the hash of the previous block\n",
    "        if block[\"previous_hash\"] != self.hash(previous_block):\n",
    "               return False\n",
    "        current_proof = block['proof']\n",
    "\n",
    "           # run the proof data through the algorithm\n",
    "        hash_operation = hashlib.sha256(str(current_proof * 2 - previous_proof * 2).encode()).hexdigest()\n",
    "           # check if hash operation is invalid\n",
    "        if hash_operation[:4] != '0000':\n",
    "               return False\n",
    "        previous_block = block\n",
    "        block_index += 1\n",
    "        return True\n",
    "\n",
    "\n",
    "app = Flask(_name_)\n",
    "blockchain = Blockchain()\n",
    "app.run(host='0.0.0.0')"
   ]
  },
  {
   "cell_type": "code",
   "execution_count": null,
   "id": "84b3048f-78d0-4742-bb69-2ade5ee69323",
   "metadata": {},
   "outputs": [],
   "source": []
  }
 ],
 "metadata": {
  "kernelspec": {
   "display_name": "Python 3 (ipykernel)",
   "language": "python",
   "name": "python3"
  },
  "language_info": {
   "codemirror_mode": {
    "name": "ipython",
    "version": 3
   },
   "file_extension": ".py",
   "mimetype": "text/x-python",
   "name": "python",
   "nbconvert_exporter": "python",
   "pygments_lexer": "ipython3",
   "version": "3.9.9"
  }
 },
 "nbformat": 4,
 "nbformat_minor": 5
}
