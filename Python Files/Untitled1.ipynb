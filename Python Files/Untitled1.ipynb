{
 "cells": [
  {
   "cell_type": "code",
   "execution_count": 11,
   "id": "444cd19f-4a87-4413-94cc-6eed7abd36ac",
   "metadata": {},
   "outputs": [
    {
     "ename": "SyntaxError",
     "evalue": "EOL while scanning string literal (Temp/ipykernel_1372/3898135866.py, line 1)",
     "output_type": "error",
     "traceback": [
      "\u001b[1;36m  File \u001b[1;32m\"C:\\Users\\sg628\\AppData\\Local\\Temp/ipykernel_1372/3898135866.py\"\u001b[1;36m, line \u001b[1;32m1\u001b[0m\n\u001b[1;33m    print(\" gu\u001b[0m\n\u001b[1;37m               ^\u001b[0m\n\u001b[1;31mSyntaxError\u001b[0m\u001b[1;31m:\u001b[0m EOL while scanning string literal\n"
     ]
    }
   ],
   "source": [
    "print(\" gu huhuhnh\")\n",
    "print(' yutc ')\n",
    "print('''hiuyy\n",
    "unjuoij\n",
    "ytyuggtou\n",
    "huy''')\n",
    "# Interpreted language"
   ]
  },
  {
   "cell_type": "code",
   "execution_count": 4,
   "id": "f1d4540d-967f-4b26-8bce-d4e903440c3e",
   "metadata": {},
   "outputs": [
    {
     "name": "stdout",
     "output_type": "stream",
     "text": [
      "shubham\n"
     ]
    }
   ],
   "source": [
    "name = \"shubham\"\n",
    "print(name)\n",
    "num = 20"
   ]
  },
  {
   "cell_type": "code",
   "execution_count": 5,
   "id": "5bbd6f4a-f098-4e05-87fd-396ed5b455d5",
   "metadata": {},
   "outputs": [
    {
     "data": {
      "text/plain": [
       "int"
      ]
     },
     "execution_count": 5,
     "metadata": {},
     "output_type": "execute_result"
    }
   ],
   "source": [
    "type(num)"
   ]
  },
  {
   "cell_type": "code",
   "execution_count": 7,
   "id": "4d237332-9423-498e-bb3e-613da216b6b3",
   "metadata": {},
   "outputs": [
    {
     "data": {
      "text/plain": [
       "'sandeep'"
      ]
     },
     "execution_count": 7,
     "metadata": {},
     "output_type": "execute_result"
    }
   ],
   "source": [
    "name = 'sandeep'\n",
    "name "
   ]
  },
  {
   "cell_type": "code",
   "execution_count": 8,
   "id": "528fc308-b556-4032-a62b-6d74aff8f36d",
   "metadata": {},
   "outputs": [
    {
     "data": {
      "text/plain": [
       "'sandeep'"
      ]
     },
     "execution_count": 8,
     "metadata": {},
     "output_type": "execute_result"
    }
   ],
   "source": [
    "name"
   ]
  },
  {
   "cell_type": "code",
   "execution_count": 9,
   "id": "fa750ab4-fb0f-49aa-a57a-01c7b7659d34",
   "metadata": {},
   "outputs": [
    {
     "data": {
      "text/plain": [
       "3.12"
      ]
     },
     "execution_count": 9,
     "metadata": {},
     "output_type": "execute_result"
    }
   ],
   "source": [
    "a = 3.12\n",
    "a"
   ]
  },
  {
   "cell_type": "code",
   "execution_count": 10,
   "id": "bc8a73c4-536b-405c-a05e-be004685b388",
   "metadata": {},
   "outputs": [
    {
     "data": {
      "text/plain": [
       "float"
      ]
     },
     "execution_count": 10,
     "metadata": {},
     "output_type": "execute_result"
    }
   ],
   "source": [
    "type(a)"
   ]
  },
  {
   "cell_type": "code",
   "execution_count": 16,
   "id": "3bb3ecd6-c9f1-4831-8c24-f684b828a1a5",
   "metadata": {},
   "outputs": [
    {
     "name": "stdout",
     "output_type": "stream",
     "text": [
      "True\n"
     ]
    }
   ],
   "source": [
    "b = True\n",
    "print(b)"
   ]
  },
  {
   "cell_type": "code",
   "execution_count": 15,
   "id": "efb63270-60db-47b0-a52d-15f9cca7a304",
   "metadata": {},
   "outputs": [
    {
     "name": "stdout",
     "output_type": "stream",
     "text": [
      "<class 'bool'>\n"
     ]
    }
   ],
   "source": [
    "print(type(b))"
   ]
  },
  {
   "cell_type": "code",
   "execution_count": 13,
   "id": "61df7f7f-df39-4b8c-bbc3-b92742c84828",
   "metadata": {},
   "outputs": [
    {
     "data": {
      "text/plain": [
       "(3+5j)"
      ]
     },
     "execution_count": 13,
     "metadata": {},
     "output_type": "execute_result"
    }
   ],
   "source": [
    "# 3 + 4i  --> complex number\n",
    "a = 3 + 5j\n",
    "a"
   ]
  },
  {
   "cell_type": "code",
   "execution_count": 14,
   "id": "d834006c-2025-476f-9e8c-02b8116c1766",
   "metadata": {},
   "outputs": [
    {
     "data": {
      "text/plain": [
       "complex"
      ]
     },
     "execution_count": 14,
     "metadata": {},
     "output_type": "execute_result"
    }
   ],
   "source": [
    "type(a)"
   ]
  },
  {
   "cell_type": "code",
   "execution_count": 30,
   "id": "89a8c849-dd96-464a-9515-6c861e6f8363",
   "metadata": {},
   "outputs": [
    {
     "name": "stdout",
     "output_type": "stream",
     "text": [
      "<class 'float'>\n",
      "2\n"
     ]
    }
   ],
   "source": [
    "a = 10 \n",
    "b = 5 \n",
    "c = a / b\n",
    "b = float(b)\n",
    "print(type(b))\n",
    "c = int(c)\n",
    "print(c)"
   ]
  },
  {
   "cell_type": "code",
   "execution_count": 29,
   "id": "ddcd9724-dd11-4a78-aaef-f3d49f068fb5",
   "metadata": {},
   "outputs": [
    {
     "name": "stdout",
     "output_type": "stream",
     "text": [
      "<class 'int'>\n",
      "<class 'int'>\n",
      "<class 'int'>\n"
     ]
    }
   ],
   "source": [
    "print(type(a))\n",
    "print(type(b))\n",
    "print(type(c))"
   ]
  },
  {
   "cell_type": "code",
   "execution_count": 37,
   "id": "023522e7-c7b3-48c7-860e-7d4a2f68d72a",
   "metadata": {},
   "outputs": [
    {
     "name": "stdout",
     "output_type": "stream",
     "text": [
      "<class 'bool'>\n",
      "True\n"
     ]
    }
   ],
   "source": [
    "a = 200\n",
    "b = 100\n",
    "c = a != b\n",
    "print(type(c))\n",
    "print(c)"
   ]
  },
  {
   "cell_type": "code",
   "execution_count": 52,
   "id": "d81f8009-f0f4-4e9e-a921-0f0e09beb34a",
   "metadata": {},
   "outputs": [
    {
     "data": {
      "text/plain": [
       "True"
      ]
     },
     "execution_count": 52,
     "metadata": {},
     "output_type": "execute_result"
    }
   ],
   "source": [
    "a = True  \n",
    "b = False  \n",
    "a | a   # And (*)  Or (+)"
   ]
  },
  {
   "cell_type": "code",
   "execution_count": 13,
   "id": "5bbcf710-8037-4a68-9bbf-e0e70d33f7d4",
   "metadata": {},
   "outputs": [
    {
     "data": {
      "text/plain": [
       "'hi pranav , shubham here '"
      ]
     },
     "execution_count": 13,
     "metadata": {},
     "output_type": "execute_result"
    }
   ],
   "source": [
    "s = \"Hi pranav , shubham here \"\n",
    "s.replace('H','h')"
   ]
  },
  {
   "cell_type": "code",
   "execution_count": 17,
   "id": "b02f46ca-bd27-42f6-8236-4a3d399b2b9b",
   "metadata": {},
   "outputs": [
    {
     "data": {
      "text/plain": [
       "3"
      ]
     },
     "execution_count": 17,
     "metadata": {},
     "output_type": "execute_result"
    }
   ],
   "source": [
    "s.find('p')"
   ]
  },
  {
   "cell_type": "code",
   "execution_count": 2,
   "id": "a55f996a-4eab-488e-a633-d8c83bcca890",
   "metadata": {},
   "outputs": [
    {
     "name": "stdout",
     "output_type": "stream",
     "text": [
      "4\n"
     ]
    }
   ],
   "source": [
    "a =1\n",
    "b = 3\n",
    "#c = a+b\n",
    "print(a+b)"
   ]
  },
  {
   "cell_type": "code",
   "execution_count": 3,
   "id": "ac8e5a24-abba-4868-b330-f95d9d67c418",
   "metadata": {},
   "outputs": [
    {
     "name": "stdout",
     "output_type": "stream",
     "text": [
      "('shubham', 9, 3.23, True, (3+5j))\n"
     ]
    }
   ],
   "source": [
    "t = ('shubham',9,3.23,True,3 +5j)\n",
    "print(t)"
   ]
  },
  {
   "cell_type": "code",
   "execution_count": 4,
   "id": "61c53907-a239-4f88-898f-071fa2559f81",
   "metadata": {},
   "outputs": [
    {
     "data": {
      "text/plain": [
       "tuple"
      ]
     },
     "execution_count": 4,
     "metadata": {},
     "output_type": "execute_result"
    }
   ],
   "source": [
    "type(t)"
   ]
  },
  {
   "cell_type": "code",
   "execution_count": 5,
   "id": "73acafa7-db59-45c3-9673-fb0e966b7b8f",
   "metadata": {},
   "outputs": [
    {
     "name": "stdout",
     "output_type": "stream",
     "text": [
      "9\n"
     ]
    }
   ],
   "source": [
    "print(t[1])"
   ]
  },
  {
   "cell_type": "code",
   "execution_count": 6,
   "id": "a85ed1c5-c841-4c74-b6b5-59998b3a0e69",
   "metadata": {},
   "outputs": [
    {
     "data": {
      "text/plain": [
       "(3+5j)"
      ]
     },
     "execution_count": 6,
     "metadata": {},
     "output_type": "execute_result"
    }
   ],
   "source": [
    "t[-1]"
   ]
  },
  {
   "cell_type": "code",
   "execution_count": 9,
   "id": "8a33d996-afe8-4c67-a656-57eeab9f84c4",
   "metadata": {},
   "outputs": [],
   "source": [
    "t2 =('pranav',45,'manish',69,'shubham')"
   ]
  },
  {
   "cell_type": "code",
   "execution_count": 12,
   "id": "f4c3ef0a-6551-4271-bc7e-3fdcb15526c3",
   "metadata": {},
   "outputs": [],
   "source": [
    "t3=t + t2"
   ]
  },
  {
   "cell_type": "code",
   "execution_count": 13,
   "id": "cbb065c6-11df-4714-8901-58fab2d69b49",
   "metadata": {},
   "outputs": [
    {
     "name": "stdout",
     "output_type": "stream",
     "text": [
      "('shubham', 9, 3.23, True, (3+5j), 'pranav', 45, 'manish', 69, 'shubham')\n"
     ]
    }
   ],
   "source": [
    "print(t3)"
   ]
  },
  {
   "cell_type": "code",
   "execution_count": 14,
   "id": "1a5b8e6a-b58f-4986-b6ba-35fd3006e111",
   "metadata": {},
   "outputs": [
    {
     "name": "stdout",
     "output_type": "stream",
     "text": [
      "10\n"
     ]
    }
   ],
   "source": [
    "print(len(t3))"
   ]
  },
  {
   "cell_type": "code",
   "execution_count": 15,
   "id": "b4da08a5-a4b7-4b9b-a9dc-c19659647327",
   "metadata": {},
   "outputs": [
    {
     "data": {
      "text/plain": [
       "['shubham', 90, 3.4, True]"
      ]
     },
     "execution_count": 15,
     "metadata": {},
     "output_type": "execute_result"
    }
   ],
   "source": [
    "l =['shubham',90,3.4,True]\n",
    "l"
   ]
  },
  {
   "cell_type": "code",
   "execution_count": 16,
   "id": "06b24d9a-1bfe-4cc5-beb2-a6e265342468",
   "metadata": {},
   "outputs": [
    {
     "data": {
      "text/plain": [
       "4"
      ]
     },
     "execution_count": 16,
     "metadata": {},
     "output_type": "execute_result"
    }
   ],
   "source": [
    "len(l)"
   ]
  },
  {
   "cell_type": "code",
   "execution_count": 18,
   "id": "71b8b066-b3ed-4788-ab20-b9b348af3e2e",
   "metadata": {},
   "outputs": [],
   "source": [
    "l[0] = 'pavi'"
   ]
  },
  {
   "cell_type": "code",
   "execution_count": 19,
   "id": "b3bffc30-dfeb-452c-ab34-069783cb18f7",
   "metadata": {},
   "outputs": [
    {
     "data": {
      "text/plain": [
       "['pavi', 90, 3.4, True]"
      ]
     },
     "execution_count": 19,
     "metadata": {},
     "output_type": "execute_result"
    }
   ],
   "source": [
    "l"
   ]
  },
  {
   "cell_type": "code",
   "execution_count": 20,
   "id": "2a9249de-9eb6-4b85-9685-ad6d729590b8",
   "metadata": {},
   "outputs": [],
   "source": [
    "l.insert(1,'Shubham')"
   ]
  },
  {
   "cell_type": "code",
   "execution_count": 21,
   "id": "da2dee04-d2b1-45af-87e6-de2f2b755941",
   "metadata": {},
   "outputs": [
    {
     "data": {
      "text/plain": [
       "['pavi', 'Shubham', 90, 3.4, True]"
      ]
     },
     "execution_count": 21,
     "metadata": {},
     "output_type": "execute_result"
    }
   ],
   "source": [
    "l"
   ]
  },
  {
   "cell_type": "code",
   "execution_count": 24,
   "id": "90a91639-bb4d-4d9f-8a5a-42bfc7b7001c",
   "metadata": {},
   "outputs": [],
   "source": [
    "l1 = [3,1,2,40,23]\n"
   ]
  },
  {
   "cell_type": "code",
   "execution_count": 25,
   "id": "9612ff1e-b548-4973-9648-d2b009991757",
   "metadata": {},
   "outputs": [],
   "source": [
    "l1.sort()"
   ]
  },
  {
   "cell_type": "code",
   "execution_count": 26,
   "id": "1f50db3c-d5e7-4564-8b84-4b5dd760d3a0",
   "metadata": {},
   "outputs": [
    {
     "name": "stdout",
     "output_type": "stream",
     "text": [
      "[1, 2, 3, 23, 40]\n"
     ]
    }
   ],
   "source": [
    "print(l1)"
   ]
  },
  {
   "cell_type": "code",
   "execution_count": 27,
   "id": "4adbb005-592b-4ec4-9a11-60bf2b15a5ce",
   "metadata": {},
   "outputs": [
    {
     "data": {
      "text/plain": [
       "[1, 2, 3, 23, 40, 50]"
      ]
     },
     "execution_count": 27,
     "metadata": {},
     "output_type": "execute_result"
    }
   ],
   "source": [
    "l1.append(50)\n",
    "l1.sort()\n",
    "l1"
   ]
  },
  {
   "cell_type": "code",
   "execution_count": 1,
   "id": "19266716-4b65-4276-8f2b-9cfad0e3fda0",
   "metadata": {},
   "outputs": [],
   "source": [
    "t = (1,2,4,'f',True,2+5j)\n"
   ]
  },
  {
   "cell_type": "code",
   "execution_count": 2,
   "id": "ff40b623-c07e-4f2a-a07a-2314ade34154",
   "metadata": {},
   "outputs": [
    {
     "name": "stdout",
     "output_type": "stream",
     "text": [
      "6\n"
     ]
    }
   ],
   "source": [
    "print(len(t))"
   ]
  },
  {
   "cell_type": "code",
   "execution_count": null,
   "id": "1a94f945-e383-4683-9eab-35c7c6eb316f",
   "metadata": {},
   "outputs": [],
   "source": []
  }
 ],
 "metadata": {
  "kernelspec": {
   "display_name": "Python 3 (ipykernel)",
   "language": "python",
   "name": "python3"
  },
  "language_info": {
   "codemirror_mode": {
    "name": "ipython",
    "version": 3
   },
   "file_extension": ".py",
   "mimetype": "text/x-python",
   "name": "python",
   "nbconvert_exporter": "python",
   "pygments_lexer": "ipython3",
   "version": "3.9.9"
  }
 },
 "nbformat": 4,
 "nbformat_minor": 5
}
