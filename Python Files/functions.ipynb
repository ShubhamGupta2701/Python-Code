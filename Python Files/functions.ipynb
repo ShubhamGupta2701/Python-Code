{
 "cells": [
  {
   "cell_type": "code",
   "execution_count": 7,
   "id": "8d93d511-9ade-489d-8408-caf7c862e49d",
   "metadata": {},
   "outputs": [],
   "source": [
    "def hi():\n",
    "    print('hi friends , chai piii lo ....')"
   ]
  },
  {
   "cell_type": "code",
   "execution_count": 8,
   "id": "e2130ad5-e365-4938-8e5c-61c9da86a0ec",
   "metadata": {},
   "outputs": [
    {
     "name": "stdout",
     "output_type": "stream",
     "text": [
      "hi friends , chai piii lo ....\n"
     ]
    }
   ],
   "source": [
    "hi()"
   ]
  },
  {
   "cell_type": "code",
   "execution_count": 20,
   "id": "a86342a8-6d72-47c3-9684-e645b9627f72",
   "metadata": {},
   "outputs": [],
   "source": [
    "def add_20(x):\n",
    "    x = x + 20 \n",
    "    print(x)"
   ]
  },
  {
   "cell_type": "code",
   "execution_count": 21,
   "id": "b15771ba-bdf8-4214-81a9-a58eaaa8bd9b",
   "metadata": {},
   "outputs": [
    {
     "name": "stdout",
     "output_type": "stream",
     "text": [
      "60\n"
     ]
    }
   ],
   "source": [
    "add_20(40)"
   ]
  },
  {
   "cell_type": "code",
   "execution_count": 25,
   "id": "657d8f0d-5ef6-4198-b056-52957e6fb4d3",
   "metadata": {},
   "outputs": [],
   "source": [
    "def odd_even(a):\n",
    "    if a%2==0:\n",
    "        print('Number is even..')\n",
    "    else:\n",
    "        print('Number is odd..')"
   ]
  },
  {
   "cell_type": "code",
   "execution_count": 28,
   "id": "64bcb180-8316-4f6e-93f4-16d529be2a35",
   "metadata": {},
   "outputs": [
    {
     "name": "stdout",
     "output_type": "stream",
     "text": [
      "Number is odd..\n"
     ]
    }
   ],
   "source": [
    "odd_even(25)"
   ]
  },
  {
   "cell_type": "code",
   "execution_count": 29,
   "id": "cb382ad9-df1d-44a4-a272-6f507bf41846",
   "metadata": {},
   "outputs": [],
   "source": [
    "# Lambda function....."
   ]
  },
  {
   "cell_type": "code",
   "execution_count": 32,
   "id": "b0fa95a7-288f-4140-9031-e93effb27427",
   "metadata": {},
   "outputs": [],
   "source": [
    "a = lambda x : x*x*x  # This user made fucntion is used to find the cube of any number "
   ]
  },
  {
   "cell_type": "code",
   "execution_count": 33,
   "id": "0cf1257e-12d6-4c35-85f2-e186ec316386",
   "metadata": {},
   "outputs": [
    {
     "data": {
      "text/plain": [
       "8"
      ]
     },
     "execution_count": 33,
     "metadata": {},
     "output_type": "execute_result"
    }
   ],
   "source": [
    "a(2)"
   ]
  },
  {
   "cell_type": "code",
   "execution_count": 34,
   "id": "66d5178e-fc97-4f0c-87d1-815efa06f581",
   "metadata": {},
   "outputs": [],
   "source": [
    "# Filter funtion....."
   ]
  },
  {
   "cell_type": "code",
   "execution_count": 2,
   "id": "0142658c-ba2e-434a-b06f-b19a180e64ed",
   "metadata": {},
   "outputs": [],
   "source": [
    "# function to filter all odd numbers ..\n",
    "l1 = [1,2,3,4,5,6,7,8,9]\n",
    "final_list = list(filter(lambda x: (x%2!=0),l1))"
   ]
  },
  {
   "cell_type": "code",
   "execution_count": 40,
   "id": "d67a157e-d022-4327-b361-1fa8d3daecf6",
   "metadata": {},
   "outputs": [
    {
     "data": {
      "text/plain": [
       "[1, 3, 5, 7, 9]"
      ]
     },
     "execution_count": 40,
     "metadata": {},
     "output_type": "execute_result"
    }
   ],
   "source": [
    "final_list"
   ]
  },
  {
   "cell_type": "code",
   "execution_count": 41,
   "id": "3e516a87-42ba-458b-b4c3-2c8547da218b",
   "metadata": {},
   "outputs": [],
   "source": [
    "# Map Function ..."
   ]
  },
  {
   "cell_type": "code",
   "execution_count": 4,
   "id": "03719530-7444-4713-9aab-15a29a4ad537",
   "metadata": {},
   "outputs": [],
   "source": [
    "map_list = list(map(lambda x: x*2,l1))"
   ]
  },
  {
   "cell_type": "code",
   "execution_count": 5,
   "id": "3eebfee5-faf4-4dac-a245-baf3caf1f70f",
   "metadata": {},
   "outputs": [
    {
     "data": {
      "text/plain": [
       "[2, 4, 6, 8, 10, 12, 14, 16, 18]"
      ]
     },
     "execution_count": 5,
     "metadata": {},
     "output_type": "execute_result"
    }
   ],
   "source": [
    "map_list"
   ]
  },
  {
   "cell_type": "code",
   "execution_count": 6,
   "id": "a8678a6e-d29b-4b1d-8d6f-11a31a286430",
   "metadata": {},
   "outputs": [],
   "source": [
    "# Reduce function .."
   ]
  },
  {
   "cell_type": "code",
   "execution_count": 7,
   "id": "2685b8df-64a3-4670-8801-353c42cafad4",
   "metadata": {},
   "outputs": [],
   "source": [
    "from functools import reduce"
   ]
  },
  {
   "cell_type": "code",
   "execution_count": 8,
   "id": "b7afac21-5c9e-4934-9aa2-23df1b79d0ca",
   "metadata": {},
   "outputs": [],
   "source": [
    "sum_fun = reduce(lambda x,y: x*y,l1)"
   ]
  },
  {
   "cell_type": "code",
   "execution_count": 50,
   "id": "dafb0dd3-5b9c-4f43-b25e-a83b19b652ee",
   "metadata": {},
   "outputs": [
    {
     "data": {
      "text/plain": [
       "362880"
      ]
     },
     "execution_count": 50,
     "metadata": {},
     "output_type": "execute_result"
    }
   ],
   "source": [
    "sum_fun   # The final value by multipling every element of list with each other is the output ..."
   ]
  },
  {
   "cell_type": "code",
   "execution_count": null,
   "id": "32739a16-926d-4edc-a97b-afe3ae099b07",
   "metadata": {},
   "outputs": [],
   "source": []
  }
 ],
 "metadata": {
  "kernelspec": {
   "display_name": "Python 3 (ipykernel)",
   "language": "python",
   "name": "python3"
  },
  "language_info": {
   "codemirror_mode": {
    "name": "ipython",
    "version": 3
   },
   "file_extension": ".py",
   "mimetype": "text/x-python",
   "name": "python",
   "nbconvert_exporter": "python",
   "pygments_lexer": "ipython3",
   "version": "3.9.9"
  }
 },
 "nbformat": 4,
 "nbformat_minor": 5
}
