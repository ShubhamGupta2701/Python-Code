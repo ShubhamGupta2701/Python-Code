{
 "cells": [
  {
   "cell_type": "code",
   "execution_count": 2,
   "id": "ebe28e01-4c0c-41cd-b9ff-d7caa7fdb832",
   "metadata": {},
   "outputs": [
    {
     "name": "stdout",
     "output_type": "stream",
     "text": [
      "pygame 2.1.2 (SDL 2.0.18, Python 3.9.9)\n",
      "Hello from the pygame community. https://www.pygame.org/contribute.html\n"
     ]
    }
   ],
   "source": []
  },
  {
   "cell_type": "code",
   "execution_count": 1,
   "id": "0f26c532-1680-4e15-a203-572062d024c9",
   "metadata": {},
   "outputs": [
    {
     "name": "stdout",
     "output_type": "stream",
     "text": [
      "pygame 2.1.2 (SDL 2.0.18, Python 3.9.9)\n",
      "Hello from the pygame community. https://www.pygame.org/contribute.html\n"
     ]
    }
   ],
   "source": [
    "import pygame as pg\n",
    "# import os \n",
    "# import time\n",
    "# x = 150\n",
    "# y = 150\n",
    "# os.environ['SDL_VIDEO_WINDOW_POS'] = \"%d,%d\" % (x,y)\n",
    "pg.init()\n",
    "window = pg.display.set_mode((500,500))\n",
    "# time.sleep(2)\n",
    "pg.display.set_caption(\"my first pygame window\")\n",
    "ok = True\n",
    "while ok:\n",
    "    for event in pg.event.get():\n",
    "        if event.type == pg.QUIT:\n",
    "            ok = False\n",
    "    window.fill((255,255,255))\n",
    "    # pg.draw.circle(window,(200,0,0),(250,250),80)\n",
    "    pg.draw.ellipse(window,'blue',(200,160,50,100),9)\n",
    "    pg.display.flip()\n",
    "pg.quit()"
   ]
  },
  {
   "cell_type": "code",
   "execution_count": null,
   "id": "d187d02a-7ea2-44db-aaec-5fecdd824c85",
   "metadata": {},
   "outputs": [],
   "source": []
  }
 ],
 "metadata": {
  "kernelspec": {
   "display_name": "Python 3 (ipykernel)",
   "language": "python",
   "name": "python3"
  },
  "language_info": {
   "codemirror_mode": {
    "name": "ipython",
    "version": 3
   },
   "file_extension": ".py",
   "mimetype": "text/x-python",
   "name": "python",
   "nbconvert_exporter": "python",
   "pygments_lexer": "ipython3",
   "version": "3.9.9"
  }
 },
 "nbformat": 4,
 "nbformat_minor": 5
}
