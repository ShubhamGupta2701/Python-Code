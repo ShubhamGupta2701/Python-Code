{
 "cells": [
  {
   "cell_type": "code",
   "execution_count": 1,
   "id": "c5ebfe23-1df2-4adb-b9e4-ce75a4d91f5a",
   "metadata": {},
   "outputs": [],
   "source": [
    "import turtle as tu \n",
    "import random \n",
    "t = tu.Turtle()\n",
    "t.screen.bgcolor('grey')\n",
    "t.left(90)\n",
    "t.speed(20)\n",
    "t.color('black')\n",
    "t.pensize(5)\n",
    "t.screen.title(\"My Tree\")\n",
    "\n",
    "def draw_tree(blen):\n",
    "    sfcolor = [\"white\",\"blue\",\"purple\",\"red\",\"yellow\"]\n",
    "    t.color(random.choice(sfcolor))\n",
    "\n",
    "    if(blen<10):\n",
    "        return\n",
    "    else:\n",
    "        t.forward(blen)\n",
    "        t.left(30)\n",
    "        draw_tree(3*blen/4)\n",
    "        t.right(60)\n",
    "        draw_tree(3*blen/4)\n",
    "        t.left(30)\n",
    "        t.backward(blen)\n",
    "\n",
    "draw_tree(70)\n",
    "t = tu.done()"
   ]
  },
  {
   "cell_type": "code",
   "execution_count": null,
   "id": "202ccb16-a34b-4546-a621-e230616d9acd",
   "metadata": {},
   "outputs": [],
   "source": []
  }
 ],
 "metadata": {
  "kernelspec": {
   "display_name": "Python 3 (ipykernel)",
   "language": "python",
   "name": "python3"
  },
  "language_info": {
   "codemirror_mode": {
    "name": "ipython",
    "version": 3
   },
   "file_extension": ".py",
   "mimetype": "text/x-python",
   "name": "python",
   "nbconvert_exporter": "python",
   "pygments_lexer": "ipython3",
   "version": "3.9.9"
  }
 },
 "nbformat": 4,
 "nbformat_minor": 5
}
