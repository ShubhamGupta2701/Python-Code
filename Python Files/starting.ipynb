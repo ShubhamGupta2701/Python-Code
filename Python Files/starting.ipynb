{
 "cells": [
  {
   "cell_type": "code",
   "execution_count": 1,
   "id": "011ecade-ee13-4b77-a7c1-024b4e6bf258",
   "metadata": {},
   "outputs": [
    {
     "name": "stdout",
     "output_type": "stream",
     "text": [
      "hooooo\n"
     ]
    }
   ],
   "source": [
    "print('hooooo')"
   ]
  },
  {
   "cell_type": "code",
   "execution_count": 10,
   "id": "cd92a155-bbbd-44ed-bacf-781a2e448ab0",
   "metadata": {},
   "outputs": [],
   "source": [
    "a = 10"
   ]
  },
  {
   "cell_type": "code",
   "execution_count": 9,
   "id": "0cc44489-c74f-4d15-8fc0-9897bf42ff6c",
   "metadata": {},
   "outputs": [
    {
     "data": {
      "text/plain": [
       "30"
      ]
     },
     "execution_count": 9,
     "metadata": {},
     "output_type": "execute_result"
    }
   ],
   "source": [
    "a = 30 \n",
    "a"
   ]
  },
  {
   "cell_type": "code",
   "execution_count": 12,
   "id": "b70b9826-0b11-4089-8f9e-fdb3ab238f03",
   "metadata": {},
   "outputs": [
    {
     "name": "stdout",
     "output_type": "stream",
     "text": [
      "<class 'int'>\n"
     ]
    }
   ],
   "source": [
    "print(type(a))"
   ]
  },
  {
   "cell_type": "code",
   "execution_count": 13,
   "id": "964a1815-5510-482e-83b6-daf2efc21129",
   "metadata": {},
   "outputs": [
    {
     "data": {
      "text/plain": [
       "int"
      ]
     },
     "execution_count": 13,
     "metadata": {},
     "output_type": "execute_result"
    }
   ],
   "source": [
    "type(a)"
   ]
  },
  {
   "cell_type": "code",
   "execution_count": 14,
   "id": "dfad8faf-4ea4-40fc-8dd7-ebdbf7173ac2",
   "metadata": {},
   "outputs": [
    {
     "data": {
      "text/plain": [
       "3.23"
      ]
     },
     "execution_count": 14,
     "metadata": {},
     "output_type": "execute_result"
    }
   ],
   "source": [
    "a =3.23\n",
    "a"
   ]
  },
  {
   "cell_type": "code",
   "execution_count": 16,
   "id": "5ab90f2f-afa5-4274-930a-11dc99ada1c9",
   "metadata": {},
   "outputs": [
    {
     "name": "stdout",
     "output_type": "stream",
     "text": [
      "<class 'complex'>\n",
      "(3+10j)\n"
     ]
    }
   ],
   "source": [
    "# 3 + 4i\n",
    "a = 3 + 10j\n",
    "print(type(a))\n",
    "print(a)"
   ]
  },
  {
   "cell_type": "code",
   "execution_count": 17,
   "id": "a0bb68c6-67a6-4265-af07-70bf6b8498dc",
   "metadata": {},
   "outputs": [
    {
     "name": "stdout",
     "output_type": "stream",
     "text": [
      "<class 'bool'>\n"
     ]
    }
   ],
   "source": [
    "a = True \n",
    "print(type(a))"
   ]
  },
  {
   "cell_type": "code",
   "execution_count": 32,
   "id": "4ed64c2a-aabd-4b9e-8e20-cbaf4f367578",
   "metadata": {},
   "outputs": [
    {
     "name": "stdout",
     "output_type": "stream",
     "text": [
      "<class 'str'>\n",
      "<class 'str'>\n"
     ]
    }
   ],
   "source": [
    "a = 'hello , Prachi , i am shubham , how are you khds , deiwj js,'\n",
    "b = \" i'm \"\n",
    "print(type(a))\n",
    "print(type(b))\n"
   ]
  },
  {
   "cell_type": "code",
   "execution_count": 33,
   "id": "ecd914e9-5b38-49c1-8554-494beb330408",
   "metadata": {},
   "outputs": [
    {
     "name": "stdout",
     "output_type": "stream",
     "text": [
      "hello , Prachi , i am shubham , how are you khds , deiwj js, i'm \n"
     ]
    }
   ],
   "source": [
    "c = a + b\n",
    "print(c)"
   ]
  },
  {
   "cell_type": "code",
   "execution_count": 39,
   "id": "3a76d334-b71a-4113-8021-431d8e512783",
   "metadata": {},
   "outputs": [
    {
     "data": {
      "text/plain": [
       "'P'"
      ]
     },
     "execution_count": 39,
     "metadata": {},
     "output_type": "execute_result"
    }
   ],
   "source": [
    "a[8]"
   ]
  },
  {
   "cell_type": "code",
   "execution_count": 35,
   "id": "48e98d46-e0df-48dc-9eda-45cd36034e56",
   "metadata": {},
   "outputs": [
    {
     "data": {
      "text/plain": [
       "'Prachi'"
      ]
     },
     "execution_count": 35,
     "metadata": {},
     "output_type": "execute_result"
    }
   ],
   "source": [
    "c[8:14]"
   ]
  },
  {
   "cell_type": "code",
   "execution_count": 36,
   "id": "4953d8c8-2ea6-4774-97e7-0c6f848034b8",
   "metadata": {},
   "outputs": [
    {
     "data": {
      "text/plain": [
       "\"Prachi , i am shubham , how are you khds , deiwj js, i'm \""
      ]
     },
     "execution_count": 36,
     "metadata": {},
     "output_type": "execute_result"
    }
   ],
   "source": [
    "c[8:]"
   ]
  },
  {
   "cell_type": "code",
   "execution_count": 37,
   "id": "d07d4314-ea84-4e5b-9bda-f30d62d251d3",
   "metadata": {},
   "outputs": [
    {
     "data": {
      "text/plain": [
       "'hello , Prachi , i am shubham , how are you khds , deiwj js,'"
      ]
     },
     "execution_count": 37,
     "metadata": {},
     "output_type": "execute_result"
    }
   ],
   "source": [
    "a[0:]"
   ]
  },
  {
   "cell_type": "code",
   "execution_count": 41,
   "id": "d89889f9-9264-415e-a2a5-117835d1ddff",
   "metadata": {},
   "outputs": [
    {
     "name": "stdout",
     "output_type": "stream",
     "text": [
      "hello , Prachi , i am shubham , how are you khds , deiwj js, i'm \n"
     ]
    }
   ],
   "source": [
    "print(c)"
   ]
  },
  {
   "cell_type": "code",
   "execution_count": 40,
   "id": "4ddcb7d0-bca8-45fc-a875-29c16ce4a289",
   "metadata": {},
   "outputs": [
    {
     "name": "stdout",
     "output_type": "stream",
     "text": [
      "['hello , Prach', ' , ', ' am shubham , how are you khds , de', 'wj js, ', \"'m \"]\n"
     ]
    }
   ],
   "source": [
    "print(c.split('i'))"
   ]
  },
  {
   "cell_type": "code",
   "execution_count": 43,
   "id": "296c3467-530d-46ff-9c9a-bdd7e5de6fd5",
   "metadata": {},
   "outputs": [
    {
     "data": {
      "text/plain": [
       "65"
      ]
     },
     "execution_count": 43,
     "metadata": {},
     "output_type": "execute_result"
    }
   ],
   "source": [
    "len(c)"
   ]
  },
  {
   "cell_type": "code",
   "execution_count": 44,
   "id": "dee4eda7-d943-4a02-b4ca-62211fce360a",
   "metadata": {},
   "outputs": [
    {
     "data": {
      "text/plain": [
       "\"hello , prachi , i am shubham , how are you khds , deiwj js, i'm \""
      ]
     },
     "execution_count": 44,
     "metadata": {},
     "output_type": "execute_result"
    }
   ],
   "source": [
    "c.lower()"
   ]
  },
  {
   "cell_type": "code",
   "execution_count": 45,
   "id": "29bd3b55-e9c6-4312-9ad2-7152d78fe780",
   "metadata": {},
   "outputs": [
    {
     "data": {
      "text/plain": [
       "\"HELLO , PRACHI , I AM SHUBHAM , HOW ARE YOU KHDS , DEIWJ JS, I'M \""
      ]
     },
     "execution_count": 45,
     "metadata": {},
     "output_type": "execute_result"
    }
   ],
   "source": [
    "c.upper()"
   ]
  },
  {
   "cell_type": "code",
   "execution_count": 47,
   "id": "71590df4-ee2e-41d2-a849-3d80d16c4b9c",
   "metadata": {},
   "outputs": [
    {
     "data": {
      "text/plain": [
       "1"
      ]
     },
     "execution_count": 47,
     "metadata": {},
     "output_type": "execute_result"
    }
   ],
   "source": [
    "c.count('shubham')"
   ]
  },
  {
   "cell_type": "code",
   "execution_count": 48,
   "id": "bc643ece-0e34-4f8a-9577-1dfa59ddc2c9",
   "metadata": {},
   "outputs": [
    {
     "name": "stdout",
     "output_type": "stream",
     "text": [
      "(10, 30, 'prachi ', (4+5j))\n"
     ]
    }
   ],
   "source": [
    "tup = (10 , 30 , 'prachi ', 4 + 5j)\n",
    "print(tup)"
   ]
  },
  {
   "cell_type": "code",
   "execution_count": 49,
   "id": "e1125988-f008-437e-b463-a7010a9aa380",
   "metadata": {},
   "outputs": [
    {
     "data": {
      "text/plain": [
       "'prachi '"
      ]
     },
     "execution_count": 49,
     "metadata": {},
     "output_type": "execute_result"
    }
   ],
   "source": [
    "tup[2]"
   ]
  },
  {
   "cell_type": "code",
   "execution_count": 56,
   "id": "1cc7854a-2853-41e0-b6b6-64cf16226b75",
   "metadata": {},
   "outputs": [
    {
     "data": {
      "text/plain": [
       "7"
      ]
     },
     "execution_count": 56,
     "metadata": {},
     "output_type": "execute_result"
    }
   ],
   "source": [
    "len(tup[2])"
   ]
  },
  {
   "cell_type": "code",
   "execution_count": 54,
   "id": "5f5bd53e-b887-4074-a533-6c991eff5879",
   "metadata": {},
   "outputs": [
    {
     "data": {
      "text/plain": [
       "'prachi '"
      ]
     },
     "execution_count": 54,
     "metadata": {},
     "output_type": "execute_result"
    }
   ],
   "source": [
    "tup[2]"
   ]
  },
  {
   "cell_type": "code",
   "execution_count": 55,
   "id": "4d277721-d640-4644-9efc-3b124abb73f6",
   "metadata": {},
   "outputs": [
    {
     "data": {
      "text/plain": [
       "(10, 30, 'prachi ')"
      ]
     },
     "execution_count": 55,
     "metadata": {},
     "output_type": "execute_result"
    }
   ],
   "source": [
    "tup[:-1]"
   ]
  },
  {
   "cell_type": "code",
   "execution_count": 57,
   "id": "42c4b467-a7d4-4621-8842-0e5cb4c53380",
   "metadata": {},
   "outputs": [
    {
     "name": "stdout",
     "output_type": "stream",
     "text": [
      "(1, 2, 3, 1, 2, 3, 1, 2, 3, 4, 5, 4, 5)\n"
     ]
    }
   ],
   "source": [
    "t1 = (1,2,3)\n",
    "t2 = (4,5)\n",
    "t3 = t1*3 + t2*2\n",
    "print(t3)"
   ]
  },
  {
   "cell_type": "code",
   "execution_count": 61,
   "id": "bb2b724d-dd32-4f14-861a-ffdbdae379d0",
   "metadata": {},
   "outputs": [
    {
     "name": "stdout",
     "output_type": "stream",
     "text": [
      "{'shubham': 500, 'prachi': 100}\n",
      "<class 'dict'>\n"
     ]
    }
   ],
   "source": [
    "name = {'shubham': 500,'prachi':100}\n",
    "print(name)\n",
    "print(type(name))"
   ]
  },
  {
   "cell_type": "markdown",
   "id": "60f16b3d-4207-40a2-a90d-8726a3f3b556",
   "metadata": {},
   "source": [
    "##### a = int(input(print('Enter first number: ')))\n",
    "b = int(input(print('Enter 2nd number: ')))\n",
    "if a > b:\n",
    "    print('A is greates number : ',a)\n",
    "else:\n",
    "    \n",
    "    print('B is greatest number : ',b)"
   ]
  },
  {
   "cell_type": "code",
   "execution_count": 2,
   "id": "9bc1cd92-357e-4d70-aa0d-32d07142f1a2",
   "metadata": {},
   "outputs": [
    {
     "data": {
      "text/plain": [
       "{22, True, 'er'}"
      ]
     },
     "execution_count": 2,
     "metadata": {},
     "output_type": "execute_result"
    }
   ],
   "source": [
    "s = {22,'er',True}  \n",
    "s"
   ]
  },
  {
   "cell_type": "code",
   "execution_count": 3,
   "id": "59a4de3b-3866-4ca8-bbe0-ca7d41e31ccf",
   "metadata": {},
   "outputs": [],
   "source": [
    "s.add(3 + 3j)"
   ]
  },
  {
   "cell_type": "code",
   "execution_count": 4,
   "id": "6dfe2062-fad9-405e-b7ba-0c2e80f0ab68",
   "metadata": {},
   "outputs": [
    {
     "data": {
      "text/plain": [
       "{(3+3j), 22, True, 'er'}"
      ]
     },
     "execution_count": 4,
     "metadata": {},
     "output_type": "execute_result"
    }
   ],
   "source": [
    "s"
   ]
  },
  {
   "cell_type": "code",
   "execution_count": 5,
   "id": "cc770586-9bda-4e2c-921e-189d75394c53",
   "metadata": {},
   "outputs": [
    {
     "name": "stdout",
     "output_type": "stream",
     "text": [
      "{True, 2, 3.32, (3+3j), 22, 'shubham', 'er'}\n"
     ]
    }
   ],
   "source": [
    "s.update([2,'shubham',3.32])\n",
    "print(s)"
   ]
  },
  {
   "cell_type": "code",
   "execution_count": 6,
   "id": "7a6ff2d4-a8a1-4d07-a7ad-858a47abd891",
   "metadata": {},
   "outputs": [],
   "source": [
    "s.remove(22)"
   ]
  },
  {
   "cell_type": "code",
   "execution_count": 7,
   "id": "064a3345-6e9e-4b33-85c2-d7fb01a1eb12",
   "metadata": {},
   "outputs": [
    {
     "data": {
      "text/plain": [
       "{(3+3j), 2, 3.32, True, 'er', 'shubham'}"
      ]
     },
     "execution_count": 7,
     "metadata": {},
     "output_type": "execute_result"
    }
   ],
   "source": [
    "s"
   ]
  },
  {
   "cell_type": "code",
   "execution_count": 8,
   "id": "634df399-ec62-4877-a298-2b24a1a88bc6",
   "metadata": {},
   "outputs": [
    {
     "data": {
      "text/plain": [
       "{1, 2, 3, 4, 5}"
      ]
     },
     "execution_count": 8,
     "metadata": {},
     "output_type": "execute_result"
    }
   ],
   "source": [
    "s1 = {1,2,3}\n",
    "s2 = {3,4,5}\n",
    "s1.union(s2)"
   ]
  },
  {
   "cell_type": "code",
   "execution_count": 10,
   "id": "b157ae51-a056-4507-a0fb-28ff9d074908",
   "metadata": {},
   "outputs": [
    {
     "data": {
      "text/plain": [
       "{3}"
      ]
     },
     "execution_count": 10,
     "metadata": {},
     "output_type": "execute_result"
    }
   ],
   "source": [
    "s1.intersection(s2)"
   ]
  },
  {
   "cell_type": "code",
   "execution_count": 11,
   "id": "eaaa28e6-cbd0-4b9f-9608-8ba8deec583a",
   "metadata": {},
   "outputs": [],
   "source": [
    "# else if ladder"
   ]
  },
  {
   "cell_type": "code",
   "execution_count": 12,
   "id": "19b80a4c-3560-41d7-ba72-c0791e59b64a",
   "metadata": {},
   "outputs": [
    {
     "name": "stdout",
     "output_type": "stream",
     "text": [
      " c is greatest \n"
     ]
    }
   ],
   "source": [
    "a = 10 \n",
    "b = 20 \n",
    "c = 30 \n",
    "if (a > b) & (a > c):\n",
    "    print('A is greatest')\n",
    "elif (b > a) & (b > c):\n",
    "    print('b is greatest ')\n",
    "else:\n",
    "    print(' c is greatest ')\n"
   ]
  },
  {
   "cell_type": "code",
   "execution_count": 14,
   "id": "ed7a8027-8d26-4771-aab1-22de2726fd03",
   "metadata": {},
   "outputs": [
    {
     "name": "stdout",
     "output_type": "stream",
     "text": [
      "0\n",
      "1\n",
      "2\n",
      "3\n",
      "4\n",
      "5\n",
      "6\n",
      "7\n",
      "8\n",
      "9\n",
      "10\n"
     ]
    }
   ],
   "source": [
    "a = 0 \n",
    "while a<=10:\n",
    "    print(a)\n",
    "    a=a+1"
   ]
  },
  {
   "cell_type": "code",
   "execution_count": 15,
   "id": "66ca1863-6073-4c59-9407-94d83b2444d5",
   "metadata": {},
   "outputs": [
    {
     "name": "stdout",
     "output_type": "stream",
     "text": [
      "0\n",
      "6\n",
      "12\n",
      "18\n",
      "24\n",
      "30\n",
      "36\n"
     ]
    }
   ],
   "source": [
    "a = 0 \n",
    "n = 6\n",
    "while a <= n :\n",
    "    print(a*n)\n",
    "    a=a+1\n",
    "    "
   ]
  },
  {
   "cell_type": "code",
   "execution_count": 20,
   "id": "59be7dcb-429a-4043-b540-f9f246342c47",
   "metadata": {},
   "outputs": [
    {
     "name": "stdout",
     "output_type": "stream",
     "text": [
      "Enter a number: \n"
     ]
    },
    {
     "name": "stdin",
     "output_type": "stream",
     "text": [
      "None 19\n"
     ]
    },
    {
     "name": "stdout",
     "output_type": "stream",
     "text": [
      "19  *  1  =  19\n",
      "19  *  2  =  38\n",
      "19  *  3  =  57\n",
      "19  *  4  =  76\n",
      "19  *  5  =  95\n",
      "19  *  6  =  114\n",
      "19  *  7  =  133\n",
      "19  *  8  =  152\n",
      "19  *  9  =  171\n",
      "19  *  10  =  190\n"
     ]
    }
   ],
   "source": [
    "i = 1\n",
    "n = int(input(print('Enter a number: ')))\n",
    "while i<=10:\n",
    "    print(n,' * ',i,' = ',i*n)\n",
    "    i=i+1"
   ]
  },
  {
   "cell_type": "code",
   "execution_count": 22,
   "id": "5c82d595-39f2-44dc-9720-f1b9a02f0af9",
   "metadata": {},
   "outputs": [
    {
     "name": "stdout",
     "output_type": "stream",
     "text": [
      "prachi\n",
      "shubham\n",
      "naman\n",
      "chirag\n",
      "parul\n"
     ]
    }
   ],
   "source": [
    "l = ['prachi','shubham','naman','chirag','parul']\n",
    "for z in l:\n",
    "    print(z)"
   ]
  },
  {
   "cell_type": "code",
   "execution_count": 23,
   "id": "d130bd6a-2bc7-4b59-9fab-d2daff3f182a",
   "metadata": {},
   "outputs": [
    {
     "name": "stdout",
     "output_type": "stream",
     "text": [
      "modi bca\n",
      "modi mca\n",
      "modi btech\n",
      "modi mtech\n",
      "sholuni bca\n",
      "sholuni mca\n",
      "sholuni btech\n",
      "sholuni mtech\n"
     ]
    }
   ],
   "source": [
    "college = ['modi','sholuni']\n",
    "course = ['bca','mca','btech','mtech']\n",
    "for i in college:\n",
    "    for j in course:\n",
    "        print(i,j)"
   ]
  },
  {
   "cell_type": "code",
   "execution_count": 24,
   "id": "14bc522c-7cfd-411a-8703-8ea66d5b54d5",
   "metadata": {},
   "outputs": [
    {
     "name": "stdout",
     "output_type": "stream",
     "text": [
      "0\n",
      "1\n",
      "2\n",
      "3\n",
      "4\n",
      "5\n",
      "6\n",
      "7\n",
      "8\n",
      "9\n"
     ]
    }
   ],
   "source": [
    "# for(i = 0 ; i < 10 ; i ++)\n",
    "for i in range(10):\n",
    "    print(i)\n",
    "    i = i + 1\n",
    "    "
   ]
  },
  {
   "cell_type": "code",
   "execution_count": 25,
   "id": "6abd9ebf-0d96-4b76-8bb3-24ccfacb18eb",
   "metadata": {},
   "outputs": [],
   "source": [
    "# functions"
   ]
  },
  {
   "cell_type": "code",
   "execution_count": 33,
   "id": "cbb80859-21c0-42cc-9fe7-5a18aa157de0",
   "metadata": {},
   "outputs": [],
   "source": [
    "def add_2_no(a,b):\n",
    "    print(a+b)"
   ]
  },
  {
   "cell_type": "code",
   "execution_count": 34,
   "id": "b2ba3fdf-fcd3-4bf9-8a65-3f24302b8490",
   "metadata": {},
   "outputs": [
    {
     "name": "stdout",
     "output_type": "stream",
     "text": [
      "6\n"
     ]
    }
   ],
   "source": [
    "add_2_no(2,4)"
   ]
  },
  {
   "cell_type": "code",
   "execution_count": 35,
   "id": "3708e5c0-a2c2-404a-babb-ca8355bae336",
   "metadata": {},
   "outputs": [
    {
     "name": "stdout",
     "output_type": "stream",
     "text": [
      "11\n"
     ]
    }
   ],
   "source": [
    "add_2_no(4,7)"
   ]
  },
  {
   "cell_type": "code",
   "execution_count": 37,
   "id": "6f0cf792-e19b-4086-b37e-6a7d55976a5e",
   "metadata": {},
   "outputs": [
    {
     "name": "stdout",
     "output_type": "stream",
     "text": [
      "6.2\n"
     ]
    }
   ],
   "source": [
    "add_2_no(2.2,4.0)"
   ]
  },
  {
   "cell_type": "code",
   "execution_count": null,
   "id": "bede024b-8c73-4e72-8982-f1407fa7e551",
   "metadata": {},
   "outputs": [],
   "source": []
  }
 ],
 "metadata": {
  "kernelspec": {
   "display_name": "Python 3 (ipykernel)",
   "language": "python",
   "name": "python3"
  },
  "language_info": {
   "codemirror_mode": {
    "name": "ipython",
    "version": 3
   },
   "file_extension": ".py",
   "mimetype": "text/x-python",
   "name": "python",
   "nbconvert_exporter": "python",
   "pygments_lexer": "ipython3",
   "version": "3.9.6"
  }
 },
 "nbformat": 4,
 "nbformat_minor": 5
}
