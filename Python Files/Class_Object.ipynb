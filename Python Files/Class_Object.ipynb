{
 "cells": [
  {
   "cell_type": "code",
   "execution_count": 17,
   "id": "88c67275-2af1-44d9-a095-5ac8ea2b8095",
   "metadata": {},
   "outputs": [],
   "source": [
    "class Person:\n",
    "    def name(self,name):\n",
    "        self.name = name\n",
    "        return self.name\n",
    "    def study(self):\n",
    "        print('MCA')\n",
    "    def roll_no(self,no):  #Passing a value from Method....\n",
    "        self.no = no\n",
    "    def num(self):\n",
    "        return self.no\n"
   ]
  },
  {
   "cell_type": "code",
   "execution_count": 18,
   "id": "48f33dee-a24e-48e8-9dbd-64a3b5fecc15",
   "metadata": {},
   "outputs": [],
   "source": [
    "p1 = Person()   #creating a object ...\n"
   ]
  },
  {
   "cell_type": "code",
   "execution_count": 19,
   "id": "cd5ec9ec-b772-497e-bafb-51835dd8b802",
   "metadata": {},
   "outputs": [
    {
     "name": "stdout",
     "output_type": "stream",
     "text": [
      "Shubham\n"
     ]
    }
   ],
   "source": [
    "p1.name()"
   ]
  },
  {
   "cell_type": "code",
   "execution_count": 20,
   "id": "48fa033d-a933-465a-a258-b1578ed0f42a",
   "metadata": {},
   "outputs": [
    {
     "name": "stdout",
     "output_type": "stream",
     "text": [
      "MCA\n"
     ]
    }
   ],
   "source": [
    "p1.study()"
   ]
  },
  {
   "cell_type": "code",
   "execution_count": 21,
   "id": "c5f01a2a-5f28-4613-bc4d-6c853a630a0f",
   "metadata": {},
   "outputs": [],
   "source": [
    "p1.roll_no(202101044)"
   ]
  },
  {
   "cell_type": "code",
   "execution_count": 23,
   "id": "0577b9e1-d749-4cb3-93e2-f169579e55f4",
   "metadata": {},
   "outputs": [
    {
     "data": {
      "text/plain": [
       "202101044"
      ]
     },
     "execution_count": 23,
     "metadata": {},
     "output_type": "execute_result"
    }
   ],
   "source": [
    "p1.num()"
   ]
  },
  {
   "cell_type": "code",
   "execution_count": null,
   "id": "51d53aa4-fb15-4217-b59f-f5c9695e5f36",
   "metadata": {},
   "outputs": [],
   "source": []
  },
  {
   "cell_type": "code",
   "execution_count": 7,
   "id": "57f354d4-ba93-434e-9b62-a168a091423f",
   "metadata": {},
   "outputs": [],
   "source": [
    "# Creating a class using constructor..."
   ]
  },
  {
   "cell_type": "code",
   "execution_count": 24,
   "id": "2264ed73-fa4f-45c3-a817-4c47d810ead5",
   "metadata": {},
   "outputs": [],
   "source": [
    "class Student:\n",
    "    def __init__(self,name,dept,roll_no,section):\n",
    "        self.name = name\n",
    "        self.dept = dept\n",
    "        self.roll_no = roll_no\n",
    "        self.section = section\n",
    "    def show(self):\n",
    "        print('Name of student is : ',self.name)\n",
    "        print('Department(class) of Student is : ',self.dept)\n",
    "        print('Roll no of Student is : ',self.roll_no)\n",
    "        print('Section of student is : ',self.section)"
   ]
  },
  {
   "cell_type": "code",
   "execution_count": 27,
   "id": "cc5d2e92-cd90-4057-a679-2aeffded030f",
   "metadata": {},
   "outputs": [
    {
     "ename": "TypeError",
     "evalue": "__init__() missing 4 required positional arguments: 'name', 'dept', 'roll_no', and 'section'",
     "output_type": "error",
     "traceback": [
      "\u001b[1;31m---------------------------------------------------------------------------\u001b[0m",
      "\u001b[1;31mTypeError\u001b[0m                                 Traceback (most recent call last)",
      "\u001b[1;32m~\\AppData\\Local\\Temp/ipykernel_12476/551597515.py\u001b[0m in \u001b[0;36m<module>\u001b[1;34m\u001b[0m\n\u001b[1;32m----> 1\u001b[1;33m \u001b[0ms1\u001b[0m \u001b[1;33m=\u001b[0m \u001b[0mStudent\u001b[0m\u001b[1;33m(\u001b[0m\u001b[1;33m)\u001b[0m\u001b[1;33m\u001b[0m\u001b[1;33m\u001b[0m\u001b[0m\n\u001b[0m",
      "\u001b[1;31mTypeError\u001b[0m: __init__() missing 4 required positional arguments: 'name', 'dept', 'roll_no', and 'section'"
     ]
    }
   ],
   "source": [
    "s1 = Student('')\n"
   ]
  },
  {
   "cell_type": "code",
   "execution_count": 29,
   "id": "06a22970-6c99-4d05-859c-8ab40e3cfa4b",
   "metadata": {},
   "outputs": [],
   "source": []
  },
  {
   "cell_type": "code",
   "execution_count": 9,
   "id": "8512ee6d-cccb-4c6f-90aa-d2e6e85d8066",
   "metadata": {},
   "outputs": [],
   "source": [
    "class Complex:\n",
    "    def __init__(self,real,img):\n",
    "        self.real = real\n",
    "        self.img = img\n",
    "    \n",
    "    def add(self,data):\n",
    "        real = self.real + data.real   # --> data.real --> c2.real\n",
    "        img = self.img + data.img      # --> data.img --> c2.img\n",
    "        result = Complex(real,img)\n",
    "        print(result)\n",
    "        \n",
    "    def print(self):\n",
    "        print(result)"
   ]
  },
  {
   "cell_type": "code",
   "execution_count": 10,
   "id": "e47e1837-c4ab-4c1e-a250-eade4613be71",
   "metadata": {},
   "outputs": [
    {
     "name": "stdout",
     "output_type": "stream",
     "text": [
      "<__main__.Complex object at 0x0000024BF2CDBB20>\n"
     ]
    },
    {
     "ename": "NameError",
     "evalue": "name 'result' is not defined",
     "output_type": "error",
     "traceback": [
      "\u001b[1;31m---------------------------------------------------------------------------\u001b[0m",
      "\u001b[1;31mNameError\u001b[0m                                 Traceback (most recent call last)",
      "\u001b[1;32m~\\AppData\\Local\\Temp/ipykernel_11056/4033496941.py\u001b[0m in \u001b[0;36m<module>\u001b[1;34m\u001b[0m\n\u001b[0;32m      2\u001b[0m \u001b[0mc2\u001b[0m \u001b[1;33m=\u001b[0m \u001b[0mComplex\u001b[0m\u001b[1;33m(\u001b[0m\u001b[1;36m2\u001b[0m\u001b[1;33m,\u001b[0m\u001b[1;36m3j\u001b[0m\u001b[1;33m)\u001b[0m\u001b[1;33m\u001b[0m\u001b[1;33m\u001b[0m\u001b[0m\n\u001b[0;32m      3\u001b[0m \u001b[0mc1\u001b[0m\u001b[1;33m.\u001b[0m\u001b[0madd\u001b[0m\u001b[1;33m(\u001b[0m\u001b[0mc2\u001b[0m\u001b[1;33m)\u001b[0m\u001b[1;33m\u001b[0m\u001b[1;33m\u001b[0m\u001b[0m\n\u001b[1;32m----> 4\u001b[1;33m \u001b[0mc1\u001b[0m\u001b[1;33m.\u001b[0m\u001b[0mprint\u001b[0m\u001b[1;33m(\u001b[0m\u001b[1;33m)\u001b[0m\u001b[1;33m\u001b[0m\u001b[1;33m\u001b[0m\u001b[0m\n\u001b[0m",
      "\u001b[1;32m~\\AppData\\Local\\Temp/ipykernel_11056/1348202937.py\u001b[0m in \u001b[0;36mprint\u001b[1;34m(self)\u001b[0m\n\u001b[0;32m     11\u001b[0m \u001b[1;33m\u001b[0m\u001b[0m\n\u001b[0;32m     12\u001b[0m     \u001b[1;32mdef\u001b[0m \u001b[0mprint\u001b[0m\u001b[1;33m(\u001b[0m\u001b[0mself\u001b[0m\u001b[1;33m)\u001b[0m\u001b[1;33m:\u001b[0m\u001b[1;33m\u001b[0m\u001b[1;33m\u001b[0m\u001b[0m\n\u001b[1;32m---> 13\u001b[1;33m         \u001b[0mprint\u001b[0m\u001b[1;33m(\u001b[0m\u001b[0mresult\u001b[0m\u001b[1;33m)\u001b[0m\u001b[1;33m\u001b[0m\u001b[1;33m\u001b[0m\u001b[0m\n\u001b[0m",
      "\u001b[1;31mNameError\u001b[0m: name 'result' is not defined"
     ]
    }
   ],
   "source": [
    "c1 = Complex(3,4j)\n",
    "c2 = Complex(2,3j)\n",
    "c1.add(c2)\n"
   ]
  },
  {
   "cell_type": "code",
   "execution_count": null,
   "id": "983860f6-057f-416a-9da6-6ddcf7edeb2e",
   "metadata": {},
   "outputs": [],
   "source": []
  }
 ],
 "metadata": {
  "kernelspec": {
   "display_name": "Python 3 (ipykernel)",
   "language": "python",
   "name": "python3"
  },
  "language_info": {
   "codemirror_mode": {
    "name": "ipython",
    "version": 3
   },
   "file_extension": ".py",
   "mimetype": "text/x-python",
   "name": "python",
   "nbconvert_exporter": "python",
   "pygments_lexer": "ipython3",
   "version": "3.9.9"
  }
 },
 "nbformat": 4,
 "nbformat_minor": 5
}
