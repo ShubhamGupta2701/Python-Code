{
 "cells": [
  {
   "cell_type": "code",
   "execution_count": 1,
   "id": "75e3518d-af49-426c-a8df-58d02e4c80ef",
   "metadata": {},
   "outputs": [
    {
     "data": {
      "text/plain": [
       "{'sourav': 'close', 'karan': 'close', 'pavi': 'best'}"
      ]
     },
     "execution_count": 1,
     "metadata": {},
     "output_type": "execute_result"
    }
   ],
   "source": [
    "friend = {'sourav':'close','karan':'close','pavi':'best'}\n",
    "friend"
   ]
  },
  {
   "cell_type": "code",
   "execution_count": 2,
   "id": "bae7dce8-2522-4c85-b013-f157b0b21c3e",
   "metadata": {},
   "outputs": [
    {
     "data": {
      "text/plain": [
       "dict_keys(['sourav', 'karan', 'pavi'])"
      ]
     },
     "execution_count": 2,
     "metadata": {},
     "output_type": "execute_result"
    }
   ],
   "source": [
    "friend.keys()"
   ]
  },
  {
   "cell_type": "code",
   "execution_count": 3,
   "id": "c7f5fb4e-6fbf-464b-927f-809c723bd21f",
   "metadata": {},
   "outputs": [
    {
     "data": {
      "text/plain": [
       "dict_values(['close', 'close', 'best'])"
      ]
     },
     "execution_count": 3,
     "metadata": {},
     "output_type": "execute_result"
    }
   ],
   "source": [
    "friend.values()"
   ]
  },
  {
   "cell_type": "code",
   "execution_count": 4,
   "id": "61dbf9ef-6467-451c-b3af-e6ea0fac7c7c",
   "metadata": {},
   "outputs": [
    {
     "data": {
      "text/plain": [
       "{'sourav': 'close', 'karan': 'close', 'pavi': 'best', 'sonu': 'Chutiya'}"
      ]
     },
     "execution_count": 4,
     "metadata": {},
     "output_type": "execute_result"
    }
   ],
   "source": [
    "friend['sonu'] = 'Chutiya'\n",
    "friend"
   ]
  },
  {
   "cell_type": "code",
   "execution_count": 5,
   "id": "815b63b4-9e10-4cee-9f62-3797bebbdd9c",
   "metadata": {},
   "outputs": [
    {
     "data": {
      "text/plain": [
       "'best'"
      ]
     },
     "execution_count": 5,
     "metadata": {},
     "output_type": "execute_result"
    }
   ],
   "source": [
    "friend.pop('pavi')"
   ]
  },
  {
   "cell_type": "code",
   "execution_count": 6,
   "id": "b57d1ce4-97f2-4d2c-ac6a-d0666cee0839",
   "metadata": {},
   "outputs": [
    {
     "data": {
      "text/plain": [
       "{'sourav': 'close', 'karan': 'close', 'sonu': 'Chutiya'}"
      ]
     },
     "execution_count": 6,
     "metadata": {},
     "output_type": "execute_result"
    }
   ],
   "source": [
    "friend"
   ]
  },
  {
   "cell_type": "code",
   "execution_count": 7,
   "id": "25f8957d-fc01-4e2f-90e5-85060073fbb2",
   "metadata": {},
   "outputs": [
    {
     "data": {
      "text/plain": [
       "{'manish': 'lomda', 'pavi': 'kuta'}"
      ]
     },
     "execution_count": 7,
     "metadata": {},
     "output_type": "execute_result"
    }
   ],
   "source": [
    "friend2 = {'manish':'lomda','pavi':'kuta'}\n",
    "friend2"
   ]
  },
  {
   "cell_type": "code",
   "execution_count": 8,
   "id": "5976eec3-f086-4d32-ba3c-60c1aa3743e8",
   "metadata": {},
   "outputs": [],
   "source": [
    "friend.update(friend2)"
   ]
  },
  {
   "cell_type": "code",
   "execution_count": 9,
   "id": "e63b9886-86ae-4a22-8328-ce2c4194adfe",
   "metadata": {},
   "outputs": [
    {
     "data": {
      "text/plain": [
       "{'sourav': 'close',\n",
       " 'karan': 'close',\n",
       " 'sonu': 'Chutiya',\n",
       " 'manish': 'lomda',\n",
       " 'pavi': 'kuta'}"
      ]
     },
     "execution_count": 9,
     "metadata": {},
     "output_type": "execute_result"
    }
   ],
   "source": [
    "friend"
   ]
  },
  {
   "cell_type": "code",
   "execution_count": 10,
   "id": "252ad772-1c55-41fd-84df-bf78bfddf712",
   "metadata": {},
   "outputs": [
    {
     "data": {
      "text/plain": [
       "{(3+2j), 2, 3.9, 5, True, 'pranav'}"
      ]
     },
     "execution_count": 10,
     "metadata": {},
     "output_type": "execute_result"
    }
   ],
   "source": [
    "s = {'pranav',5,3.9,2,3+2j,True}\n",
    "s"
   ]
  },
  {
   "cell_type": "code",
   "execution_count": 11,
   "id": "c63c77f7-b169-4f9b-b53a-b26d8d520a46",
   "metadata": {},
   "outputs": [
    {
     "data": {
      "text/plain": [
       "set"
      ]
     },
     "execution_count": 11,
     "metadata": {},
     "output_type": "execute_result"
    }
   ],
   "source": [
    "type(s)"
   ]
  },
  {
   "cell_type": "code",
   "execution_count": 12,
   "id": "2672d44e-9806-4334-9def-c4b1f3bbea7c",
   "metadata": {},
   "outputs": [],
   "source": [
    "s.add('sonu')"
   ]
  },
  {
   "cell_type": "code",
   "execution_count": 13,
   "id": "795ba71e-b2e6-4f19-b398-ecc9f0a38301",
   "metadata": {},
   "outputs": [
    {
     "data": {
      "text/plain": [
       "{(3+2j), 2, 3.9, 5, True, 'pranav', 'sonu'}"
      ]
     },
     "execution_count": 13,
     "metadata": {},
     "output_type": "execute_result"
    }
   ],
   "source": [
    "s"
   ]
  },
  {
   "cell_type": "code",
   "execution_count": 14,
   "id": "6e725a3e-3148-49c6-9a68-9aaad953d072",
   "metadata": {},
   "outputs": [],
   "source": [
    "s1 ={'manish',3,56,1,2.0,True}"
   ]
  },
  {
   "cell_type": "code",
   "execution_count": 15,
   "id": "e00191a1-9539-49ca-9851-3ebce84c2944",
   "metadata": {},
   "outputs": [
    {
     "data": {
      "text/plain": [
       "{1, 2.0, 3, 56, 'manish'}"
      ]
     },
     "execution_count": 15,
     "metadata": {},
     "output_type": "execute_result"
    }
   ],
   "source": [
    "s1"
   ]
  },
  {
   "cell_type": "code",
   "execution_count": 16,
   "id": "0a6aeb30-4fd3-45f8-87c0-a447104a6110",
   "metadata": {},
   "outputs": [],
   "source": [
    "s1.update(['Shubham',23,False,4+5j])"
   ]
  },
  {
   "cell_type": "code",
   "execution_count": 17,
   "id": "6c3bef8d-a7b6-4d8f-a6f8-cf70d5e0e5bc",
   "metadata": {},
   "outputs": [
    {
     "data": {
      "text/plain": [
       "{(4+5j), 1, 2.0, 23, 3, 56, False, 'Shubham', 'manish'}"
      ]
     },
     "execution_count": 17,
     "metadata": {},
     "output_type": "execute_result"
    }
   ],
   "source": [
    "s1"
   ]
  },
  {
   "cell_type": "code",
   "execution_count": 18,
   "id": "5c3acdd0-07e1-41ba-a99b-725e081e48fc",
   "metadata": {},
   "outputs": [
    {
     "data": {
      "text/plain": [
       "{1, 5, 6, 7, 8, 'karan'}"
      ]
     },
     "execution_count": 18,
     "metadata": {},
     "output_type": "execute_result"
    }
   ],
   "source": [
    "s2 = {1,5,6,7,8,'karan'}\n",
    "s2"
   ]
  },
  {
   "cell_type": "code",
   "execution_count": 19,
   "id": "c887a7f3-f757-4208-94b7-152a57db5839",
   "metadata": {},
   "outputs": [
    {
     "data": {
      "text/plain": [
       "{(4+5j), 1, 2.0, 23, 3, 5, 56, 6, 7, 8, False, 'Shubham', 'karan', 'manish'}"
      ]
     },
     "execution_count": 19,
     "metadata": {},
     "output_type": "execute_result"
    }
   ],
   "source": [
    "s1.union(s2)"
   ]
  },
  {
   "cell_type": "code",
   "execution_count": 20,
   "id": "bc43cffd-1ab8-4fb8-9b53-3b3d9d8e73bf",
   "metadata": {},
   "outputs": [
    {
     "data": {
      "text/plain": [
       "{1}"
      ]
     },
     "execution_count": 20,
     "metadata": {},
     "output_type": "execute_result"
    }
   ],
   "source": [
    "s1.intersection(s2)"
   ]
  },
  {
   "cell_type": "code",
   "execution_count": 21,
   "id": "aba4a154-950a-4010-9877-b66bc4b3928a",
   "metadata": {},
   "outputs": [],
   "source": [
    "# Strings"
   ]
  },
  {
   "cell_type": "code",
   "execution_count": 22,
   "id": "afd15076-daa7-4cff-bb65-44dc56493a40",
   "metadata": {},
   "outputs": [],
   "source": [
    "s = \"hi\""
   ]
  },
  {
   "cell_type": "code",
   "execution_count": 23,
   "id": "f2eac67a-89c1-4728-a056-39b9f362d3dc",
   "metadata": {},
   "outputs": [],
   "source": [
    "S = ' Shubham'"
   ]
  },
  {
   "cell_type": "code",
   "execution_count": 24,
   "id": "04400918-f80e-4e59-97c0-01de0794a7fb",
   "metadata": {},
   "outputs": [
    {
     "name": "stdout",
     "output_type": "stream",
     "text": [
      "hi\n",
      " Shubham\n"
     ]
    }
   ],
   "source": [
    "print(s)\n",
    "print(S)"
   ]
  },
  {
   "cell_type": "code",
   "execution_count": 25,
   "id": "8f9a75b9-bedb-4237-b9fb-8a4a4c36975d",
   "metadata": {},
   "outputs": [
    {
     "data": {
      "text/plain": [
       "'hi Shubham'"
      ]
     },
     "execution_count": 25,
     "metadata": {},
     "output_type": "execute_result"
    }
   ],
   "source": [
    "s + S"
   ]
  },
  {
   "cell_type": "code",
   "execution_count": 26,
   "id": "dac4f1c4-95b6-4b91-b77b-2b2453842a10",
   "metadata": {},
   "outputs": [
    {
     "name": "stdout",
     "output_type": "stream",
     "text": [
      "a is greater then b\n"
     ]
    }
   ],
   "source": [
    "a = 12\n",
    "b = 2\n",
    "if b > a :\n",
    "    print('b is greater than a')\n",
    "else:\n",
    "    print('a is greater then b')"
   ]
  },
  {
   "cell_type": "code",
   "execution_count": 3,
   "id": "87f21197-045b-49b5-933b-5893da4f8c8a",
   "metadata": {},
   "outputs": [
    {
     "name": "stdout",
     "output_type": "stream",
     "text": [
      "Enter 1st number: \n"
     ]
    },
    {
     "name": "stdin",
     "output_type": "stream",
     "text": [
      "None 3\n"
     ]
    },
    {
     "name": "stdout",
     "output_type": "stream",
     "text": [
      "Enter 2nd number: \n"
     ]
    },
    {
     "name": "stdin",
     "output_type": "stream",
     "text": [
      "None 6\n"
     ]
    },
    {
     "name": "stdout",
     "output_type": "stream",
     "text": [
      "Enter 3rd number: \n"
     ]
    },
    {
     "name": "stdin",
     "output_type": "stream",
     "text": [
      "None 4\n"
     ]
    },
    {
     "name": "stdout",
     "output_type": "stream",
     "text": [
      "b i sgreaatest \n"
     ]
    }
   ],
   "source": [
    "a = int(input(print('Enter 1st number: ')))\n",
    "b = int(input(print('Enter 2nd number: ')))\n",
    "c = int(input(print('Enter 3rd number: ')))\n",
    "if (a>b)&(a>c):\n",
    "    print('a si greatest')\n",
    "elif  (b > c):\n",
    "    print('b i sgreaatest ')\n",
    "else:\n",
    "    print('c is greatest ')"
   ]
  },
  {
   "cell_type": "code",
   "execution_count": null,
   "id": "900f6ab0-daa7-43b0-bd02-12a7b6861a26",
   "metadata": {},
   "outputs": [],
   "source": []
  }
 ],
 "metadata": {
  "kernelspec": {
   "display_name": "Python 3 (ipykernel)",
   "language": "python",
   "name": "python3"
  },
  "language_info": {
   "codemirror_mode": {
    "name": "ipython",
    "version": 3
   },
   "file_extension": ".py",
   "mimetype": "text/x-python",
   "name": "python",
   "nbconvert_exporter": "python",
   "pygments_lexer": "ipython3",
   "version": "3.9.9"
  }
 },
 "nbformat": 4,
 "nbformat_minor": 5
}
