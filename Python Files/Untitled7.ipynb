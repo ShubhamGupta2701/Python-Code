{
 "cells": [
  {
   "cell_type": "code",
   "execution_count": 3,
   "id": "b659618b-1f0a-4d0d-81d9-4728140c956d",
   "metadata": {},
   "outputs": [
    {
     "name": "stdin",
     "output_type": "stream",
     "text": [
      "first number :  7\n",
      "2nd number :  9\n"
     ]
    },
    {
     "name": "stdout",
     "output_type": "stream",
     "text": [
      "b is greater than a\n"
     ]
    }
   ],
   "source": [
    "a = int(input(\"first number : \"))\n",
    "b = int(input(\"2nd number : \"))\n",
    "if a<b:\n",
    "    print(\"b is greater than a\")\n",
    "else:\n",
    "    print(\"a is greater than b\")"
   ]
  },
  {
   "cell_type": "code",
   "execution_count": 4,
   "id": "1a561c6a-4e15-4e3b-aee5-56ca6b4de474",
   "metadata": {},
   "outputs": [
    {
     "name": "stdout",
     "output_type": "stream",
     "text": [
      "c is greatest\n"
     ]
    }
   ],
   "source": [
    "a = 10\n",
    "b = 20\n",
    "c = 30\n",
    "if a>b:\n",
    "    if a>c:\n",
    "        print(\"a is greatest\")\n",
    "    else:\n",
    "        print(\"c is greatest\")\n",
    "else:\n",
    "    if b>c:\n",
    "        print(\"b is greatest\")\n",
    "    else:\n",
    "        print(\"c is greatest\")"
   ]
  },
  {
   "cell_type": "code",
   "execution_count": 5,
   "id": "8c51c39e-2de7-4dde-8f5c-4e894e7b5271",
   "metadata": {},
   "outputs": [
    {
     "name": "stdout",
     "output_type": "stream",
     "text": [
      "50\n"
     ]
    }
   ],
   "source": [
    "a = 10\n",
    "b = 50\n",
    "c = 30\n",
    "if a>b:\n",
    "    print(a)\n",
    "elif b>a:\n",
    "    print(b)\n",
    "elif c>a:\n",
    "    print(c)\n",
    "elif b>c:\n",
    "    print(b)\n",
    "else:\n",
    "    print(c)"
   ]
  },
  {
   "cell_type": "code",
   "execution_count": 11,
   "id": "e5d5ac4f-70cf-4937-94c7-4b13f4a53129",
   "metadata": {},
   "outputs": [
    {
     "name": "stdin",
     "output_type": "stream",
     "text": [
      "Enter a number :  101\n"
     ]
    },
    {
     "name": "stdout",
     "output_type": "stream",
     "text": [
      "Number is odd\n"
     ]
    }
   ],
   "source": [
    "a = int(input(\"Enter a number : \"))\n",
    "if (a%2 == 1):\n",
    "    print(\"Number is odd\")\n",
    "else:\n",
    "    print(\"Number is even\")"
   ]
  },
  {
   "cell_type": "code",
   "execution_count": 17,
   "id": "6ea21c18-b682-4e63-adbb-52b929690710",
   "metadata": {},
   "outputs": [
    {
     "name": "stdout",
     "output_type": "stream",
     "text": [
      "1\n",
      "2\n",
      "3\n",
      "4\n",
      "5\n",
      "6\n",
      "7\n",
      "8\n",
      "9\n",
      "10\n"
     ]
    }
   ],
   "source": [
    "for i in range(10):\n",
    "    print(i+1)"
   ]
  },
  {
   "cell_type": "code",
   "execution_count": 18,
   "id": "eeffd827-96ba-4679-bda0-554d46901282",
   "metadata": {},
   "outputs": [
    {
     "name": "stdout",
     "output_type": "stream",
     "text": [
      "1\n",
      "2\n",
      "3\n",
      "4\n",
      "5\n",
      "6\n",
      "7\n",
      "8\n",
      "99\n",
      "101\n"
     ]
    }
   ],
   "source": [
    "a = [1,2,3,4,5,6,7,8,99,101]\n",
    "for i in a:\n",
    "    print(i)"
   ]
  },
  {
   "cell_type": "code",
   "execution_count": 23,
   "id": "b2e74d5a-b434-4b97-b21d-8205f332636a",
   "metadata": {},
   "outputs": [
    {
     "name": "stdin",
     "output_type": "stream",
     "text": [
      "Enter a number :  14\n"
     ]
    },
    {
     "name": "stdout",
     "output_type": "stream",
     "text": [
      "14  *  1  =  14\n",
      "14  *  2  =  28\n",
      "14  *  3  =  42\n",
      "14  *  4  =  56\n",
      "14  *  5  =  70\n",
      "14  *  6  =  84\n",
      "14  *  7  =  98\n",
      "14  *  8  =  112\n",
      "14  *  9  =  126\n",
      "14  *  10  =  140\n"
     ]
    }
   ],
   "source": [
    "n = int(input(\"Enter a number : \"))\n",
    "for i in range(1,11):\n",
    "    print(n,\" * \",i,\" = \",n*i)"
   ]
  },
  {
   "cell_type": "code",
   "execution_count": null,
   "id": "0c87a0b9-39c8-42c5-966a-2b8c9fe45d7b",
   "metadata": {},
   "outputs": [],
   "source": []
  }
 ],
 "metadata": {
  "kernelspec": {
   "display_name": "Python 3 (ipykernel)",
   "language": "python",
   "name": "python3"
  },
  "language_info": {
   "codemirror_mode": {
    "name": "ipython",
    "version": 3
   },
   "file_extension": ".py",
   "mimetype": "text/x-python",
   "name": "python",
   "nbconvert_exporter": "python",
   "pygments_lexer": "ipython3",
   "version": "3.9.9"
  }
 },
 "nbformat": 4,
 "nbformat_minor": 5
}
