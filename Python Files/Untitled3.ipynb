{
 "cells": [
  {
   "cell_type": "code",
   "execution_count": 1,
   "id": "dd474e1a-3af6-4048-9c36-e1ec761f0a8b",
   "metadata": {},
   "outputs": [
    {
     "name": "stdout",
     "output_type": "stream",
     "text": [
      "c is greatest\n"
     ]
    }
   ],
   "source": [
    "a = 2\n",
    "b = 4\n",
    "c = 7\n",
    "# find greatest among 3\n",
    "if a > b :\n",
    "    if a > c:\n",
    "        print('a is greatest')\n",
    "    else:\n",
    "        print('c is greatest')\n",
    "else:\n",
    "    if b > c:\n",
    "        print('b is greatest')\n",
    "    else:\n",
    "        print('c is greatest')"
   ]
  },
  {
   "cell_type": "code",
   "execution_count": 2,
   "id": "3c0a0b06-047b-402b-8a3a-a24e8f2c3f2f",
   "metadata": {},
   "outputs": [
    {
     "name": "stdout",
     "output_type": "stream",
     "text": [
      "c is greatest\n"
     ]
    }
   ],
   "source": [
    "a = 2\n",
    "b = 4\n",
    "c = 7\n",
    "if (a > b) & (a > c):\n",
    "    print('a is greatest')\n",
    "elif (b > a) & (b > c):\n",
    "    print('b is greatest')\n",
    "else:\n",
    "    print('c is greatest')"
   ]
  },
  {
   "cell_type": "code",
   "execution_count": 5,
   "id": "ceb30fe4-b73b-4c6b-9940-bb327ef3aeda",
   "metadata": {},
   "outputs": [
    {
     "name": "stdout",
     "output_type": "stream",
     "text": [
      " value is present in tup1\n"
     ]
    }
   ],
   "source": [
    "tup1 = ('a','b','c','d','e',5,6,True)     \n",
    "if 5 in tup1:\n",
    "    print(\" value is present in tup1\")\n",
    "else:\n",
    "    print(\"value is not present in tup1\") "
   ]
  },
  {
   "cell_type": "code",
   "execution_count": null,
   "id": "b77323e5-6a14-43f6-b5e6-82e20e431b90",
   "metadata": {},
   "outputs": [],
   "source": []
  }
 ],
 "metadata": {
  "kernelspec": {
   "display_name": "Python 3 (ipykernel)",
   "language": "python",
   "name": "python3"
  },
  "language_info": {
   "codemirror_mode": {
    "name": "ipython",
    "version": 3
   },
   "file_extension": ".py",
   "mimetype": "text/x-python",
   "name": "python",
   "nbconvert_exporter": "python",
   "pygments_lexer": "ipython3",
   "version": "3.9.6"
  }
 },
 "nbformat": 4,
 "nbformat_minor": 5
}
