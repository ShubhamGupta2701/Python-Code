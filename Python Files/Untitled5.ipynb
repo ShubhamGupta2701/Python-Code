{
 "cells": [
  {
   "cell_type": "code",
   "execution_count": 119,
   "id": "785b1889-a70c-4dae-99e3-40144c9b32a3",
   "metadata": {},
   "outputs": [],
   "source": [
    "import datetime\n",
    "def DOB(day,month,year):\n",
    "    return day,month,year\n",
    "class person:\n",
    "    def __init__(self,name,DOB,adhar_no,address):\n",
    "        self.name=name\n",
    "        self.DOB = DOB\n",
    "        self.adhar_no = adhar_no\n",
    "        # self.DOB = datetime.datetime(self.DOB)\n",
    "        self.address = address\n",
    "    def age(self,currentdate):\n",
    "        self.currentdate=set(currentdate)\n",
    "        self.DOB = set(self.DOB)\n",
    "        self.age = self.DOB.difference(self.currentdate)\n",
    "        print(self.age)\n",
    "        "
   ]
  },
  {
   "cell_type": "code",
   "execution_count": 120,
   "id": "983a6d83-ae68-4fb2-a16e-d47ee341f84f",
   "metadata": {},
   "outputs": [],
   "source": [
    "x=DOB(27,1,1)\n",
    "p = person(\"shubham\",x,1010,\"patiala\")"
   ]
  },
  {
   "cell_type": "code",
   "execution_count": 121,
   "id": "811f645c-5c03-4d82-b034-f98c1b55e3f3",
   "metadata": {},
   "outputs": [
    {
     "data": {
      "text/plain": [
       "'shubham'"
      ]
     },
     "execution_count": 121,
     "metadata": {},
     "output_type": "execute_result"
    }
   ],
   "source": [
    "p.name"
   ]
  },
  {
   "cell_type": "code",
   "execution_count": 122,
   "id": "1058205a-1337-447f-a142-5720024628ec",
   "metadata": {},
   "outputs": [
    {
     "data": {
      "text/plain": [
       "(27, 1, 1)"
      ]
     },
     "execution_count": 122,
     "metadata": {},
     "output_type": "execute_result"
    }
   ],
   "source": [
    "p.DOB"
   ]
  },
  {
   "cell_type": "code",
   "execution_count": 123,
   "id": "00c5625b-a43a-4f16-a165-434f0a35d5e9",
   "metadata": {},
   "outputs": [
    {
     "name": "stdout",
     "output_type": "stream",
     "text": [
      "{1, 27}\n"
     ]
    }
   ],
   "source": [
    "p.age({28,12,21})"
   ]
  },
  {
   "cell_type": "code",
   "execution_count": 133,
   "id": "751f139a-d4b0-4aac-b494-4a76d419592d",
   "metadata": {},
   "outputs": [],
   "source": [
    "\n",
    "class student(person):\n",
    "    # super().__init__(name,DOB,adhar_no,address)\n",
    "    def __init__(self,r_no,s_name,c_name,sub,marks):\n",
    "        self.r_no = r_no\n",
    "        self.s_name = s_name\n",
    "        self.c_name = c_name\n",
    "        self.sub = list(sub)\n",
    "        self.marks= list(marks)\n",
    "        \n",
    "    def percentage(self):\n",
    "        for x in self.marks:\n",
    "            x = x+x\n",
    "            return x\n",
    "        self.total = x\n",
    "        self.percentage = self.total/50"
   ]
  },
  {
   "cell_type": "code",
   "execution_count": null,
   "id": "82f55d3a-ef8b-41c9-9d2e-acffd701ab57",
   "metadata": {},
   "outputs": [],
   "source": []
  },
  {
   "cell_type": "code",
   "execution_count": null,
   "id": "7f641398-36f8-4c34-992d-7ed6331057f7",
   "metadata": {},
   "outputs": [],
   "source": []
  }
 ],
 "metadata": {
  "kernelspec": {
   "display_name": "Python 3 (ipykernel)",
   "language": "python",
   "name": "python3"
  },
  "language_info": {
   "codemirror_mode": {
    "name": "ipython",
    "version": 3
   },
   "file_extension": ".py",
   "mimetype": "text/x-python",
   "name": "python",
   "nbconvert_exporter": "python",
   "pygments_lexer": "ipython3",
   "version": "3.9.9"
  }
 },
 "nbformat": 4,
 "nbformat_minor": 5
}
