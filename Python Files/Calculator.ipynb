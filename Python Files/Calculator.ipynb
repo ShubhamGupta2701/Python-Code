{
 "cells": [
  {
   "cell_type": "code",
   "execution_count": 1,
   "id": "fed2ec89-d160-48fa-9eee-0d3e98baaaca",
   "metadata": {},
   "outputs": [],
   "source": [
    "# Calculator Function...."
   ]
  },
  {
   "cell_type": "code",
   "execution_count": 1,
   "id": "3208e966-9bf1-4d3a-a402-52ee36462999",
   "metadata": {},
   "outputs": [],
   "source": [
    "def calc():\n",
    "    a = int(input('Enter 1st number: '))\n",
    "    b = int(input('Enter 2nd number: '))\n",
    "    c = input('Enter what operation to perform: ')\n",
    "#     num1 = int(a)\n",
    "#     num2 = int(b)\n",
    "#     l = ['+','-','*','%','/']\n",
    "    if c == '+':\n",
    "#         print('Sum of '+a+' and '+b+' is ',num1+num2)\n",
    "        print('sum of ',a,' and',b,' is ', a+b)\n",
    "    elif c == '-':\n",
    "        print('Substraction of ',a,' and',b,' is ', a-b)\n",
    "    elif c == '*':\n",
    "        print('Multiplication of ',a,' and',b,' is ', a*b)\n",
    "    elif c == '/':\n",
    "        print('Division of ',a,' and',b,' is ', a/b)\n",
    "    elif c == '%':\n",
    "        print('Modulse(remainder) of ',a,' and',b,' is ', a%b)\n",
    "    else:\n",
    "        print('Please enter a valid Operation..')"
   ]
  },
  {
   "cell_type": "code",
   "execution_count": 3,
   "id": "30000a8c-5c32-4fbc-95cd-00809e4dd3c4",
   "metadata": {},
   "outputs": [
    {
     "name": "stdin",
     "output_type": "stream",
     "text": [
      "Enter 1st number:  5\n",
      "Enter 2nd number:  7\n",
      "Enter what operation to perform:  *\n"
     ]
    },
    {
     "name": "stdout",
     "output_type": "stream",
     "text": [
      "Multiplication of  5  and 7  is  35\n"
     ]
    }
   ],
   "source": [
    "calc()"
   ]
  },
  {
   "cell_type": "code",
   "execution_count": 4,
   "id": "0b8c627a-3f56-4106-a708-a777c28d809d",
   "metadata": {},
   "outputs": [],
   "source": [
    "#Without making it a function ..\n",
    "\n",
    "# a = input('Enter 1st number: ')\n",
    "# b = input('Enter 2nd number: ')\n",
    "# c = input(print('Enter what operation to perform: '))\n",
    "# num1 = int(a)\n",
    "# num2 = int(b)\n",
    "# l = ['+','-','*','%','/']\n",
    "# if c == '+':\n",
    "#     print('Sum of '+a+' and '+b+' is ',num1+num2)\n",
    "# elif c == '-':\n",
    "#     print('Substraction of '+a+' and '+b+' is ',num1-num2)\n",
    "# elif c == '*':\n",
    "#     print('Multiplication of '+a+' and '+b+' is ',num1*num2)\n",
    "# elif c == '/':\n",
    "#     print('Division of '+a+' and '+b+' is ',num1/num2)\n",
    "# elif c == '%':\n",
    "#     print('Modulse(remainder) of '+a+' and '+b+' is ',num1%num2)\n",
    "# else:\n",
    "#     print('Please enter a valid Operation..')"
   ]
  },
  {
   "cell_type": "code",
   "execution_count": null,
   "id": "63c444b4-6bab-490a-9a26-e342bbfdbef9",
   "metadata": {},
   "outputs": [],
   "source": []
  }
 ],
 "metadata": {
  "kernelspec": {
   "display_name": "Python 3 (ipykernel)",
   "language": "python",
   "name": "python3"
  },
  "language_info": {
   "codemirror_mode": {
    "name": "ipython",
    "version": 3
   },
   "file_extension": ".py",
   "mimetype": "text/x-python",
   "name": "python",
   "nbconvert_exporter": "python",
   "pygments_lexer": "ipython3",
   "version": "3.9.9"
  }
 },
 "nbformat": 4,
 "nbformat_minor": 5
}
