{
 "cells": [
  {
   "cell_type": "code",
   "execution_count": 2,
   "id": "e03d6085-1581-4ca6-9af1-4704344ad710",
   "metadata": {},
   "outputs": [],
   "source": [
    "def easy(msg):\n",
    "    def complex():\n",
    "        print(\"message is : \",msg)\n",
    "    return complex\n",
    "\n",
    "m1 = easy(\"hello\")"
   ]
  },
  {
   "cell_type": "code",
   "execution_count": 3,
   "id": "d552477e-c3e2-4b1b-a4eb-d268cf35dd45",
   "metadata": {},
   "outputs": [
    {
     "name": "stdout",
     "output_type": "stream",
     "text": [
      "message is :  hello\n"
     ]
    }
   ],
   "source": [
    "m1()"
   ]
  },
  {
   "cell_type": "code",
   "execution_count": 4,
   "id": "60c50a1c-52ac-42a7-a6ff-430a54b8ccc9",
   "metadata": {},
   "outputs": [],
   "source": [
    "def h_tag(tag):\n",
    "    def wrap_text(msg):\n",
    "        print(\"<{0}>{1}</{0}>\".format(tag,msg))\n",
    "    return wrap_text"
   ]
  },
  {
   "cell_type": "code",
   "execution_count": 7,
   "id": "3f0829fc-76d4-4324-b437-33189ca7dcb7",
   "metadata": {},
   "outputs": [
    {
     "name": "stdout",
     "output_type": "stream",
     "text": [
      "<h1>shubham</h1>\n"
     ]
    }
   ],
   "source": [
    "t1 = h_tag('h1')\n",
    "t1('shubham')"
   ]
  },
  {
   "cell_type": "code",
   "execution_count": 8,
   "id": "3b73b830-4bfb-4e1b-bfc5-a46ef4619d1f",
   "metadata": {},
   "outputs": [
    {
     "name": "stdout",
     "output_type": "stream",
     "text": [
      "<h1>garg</h1>\n"
     ]
    }
   ],
   "source": [
    "t1('garg')"
   ]
  },
  {
   "cell_type": "code",
   "execution_count": 9,
   "id": "704f40bf-542d-4d0c-b4ab-63204feb2df8",
   "metadata": {},
   "outputs": [
    {
     "name": "stdout",
     "output_type": "stream",
     "text": [
      "<p>hi, my name is shubham </p>\n"
     ]
    }
   ],
   "source": [
    "t2 = h_tag('p')\n",
    "t2(\"hi, my name is shubham \")"
   ]
  },
  {
   "cell_type": "code",
   "execution_count": 18,
   "id": "9eb05acb-87d1-4d0a-8ceb-e1e3915116d6",
   "metadata": {},
   "outputs": [
    {
     "name": "stdout",
     "output_type": "stream",
     "text": [
      "this is normal display\n"
     ]
    }
   ],
   "source": []
  },
  {
   "cell_type": "code",
   "execution_count": 32,
   "id": "3bdcc1a0-37a0-4192-bb09-f424daf79524",
   "metadata": {},
   "outputs": [],
   "source": [
    "def decorate_display(orignal):\n",
    "    def wrapper(*args,**kwrgs):\n",
    "        print(\"this is decorated display, i just made it\")\n",
    "        return orignal(*args,**kwrgs)\n",
    "    return wrapper\n",
    "@decorate_display\n",
    "def display():\n",
    "    print(\"this is normal display\")\n"
   ]
  },
  {
   "cell_type": "code",
   "execution_count": 33,
   "id": "6667bbd0-e97f-4fd5-8542-78bd521cccba",
   "metadata": {},
   "outputs": [],
   "source": [
    "# new = decorate_display(display)"
   ]
  },
  {
   "cell_type": "code",
   "execution_count": 34,
   "id": "bf099be7-40f0-4110-993a-a62399162b33",
   "metadata": {},
   "outputs": [],
   "source": [
    "# new()"
   ]
  },
  {
   "cell_type": "code",
   "execution_count": 35,
   "id": "cf49bab1-dfcd-404f-b4e4-91213decf9b8",
   "metadata": {},
   "outputs": [
    {
     "name": "stdout",
     "output_type": "stream",
     "text": [
      "this is decorated display, i just made it\n",
      "this is normal display\n"
     ]
    }
   ],
   "source": [
    "display()"
   ]
  },
  {
   "cell_type": "code",
   "execution_count": 36,
   "id": "b390998d-67ef-44b9-b655-44cc3be70312",
   "metadata": {},
   "outputs": [],
   "source": [
    "@decorate_display\n",
    "def new_func(name,age):\n",
    "    print(\"new display contains:{0} and age {1}\".format(name,age))"
   ]
  },
  {
   "cell_type": "code",
   "execution_count": 37,
   "id": "2d525188-8b5d-47c7-9fbd-5df6c4324440",
   "metadata": {},
   "outputs": [
    {
     "name": "stdout",
     "output_type": "stream",
     "text": [
      "this is decorated display, i just made it\n",
      "new display contains:shubham and age 20\n"
     ]
    }
   ],
   "source": [
    "new_func(\"shubham\",20)"
   ]
  },
  {
   "cell_type": "code",
   "execution_count": 38,
   "id": "2a960bb6-7f3d-4085-82ca-032ea6d29afd",
   "metadata": {},
   "outputs": [
    {
     "name": "stdout",
     "output_type": "stream",
     "text": [
      "this is decorated display, i just made it\n",
      "this is normal display\n"
     ]
    }
   ],
   "source": [
    "display()"
   ]
  },
  {
   "cell_type": "code",
   "execution_count": 42,
   "id": "6a0e0ac4-0c17-4139-86dd-1c26f307b477",
   "metadata": {},
   "outputs": [
    {
     "name": "stdout",
     "output_type": "stream",
     "text": [
      "karan\n",
      "karan.Smith@email.com\n",
      "karan Smith\n"
     ]
    }
   ],
   "source": [
    "class Employee:\n",
    "    def __init__(self,first,last):\n",
    "        self.first = first\n",
    "        self.last = last\n",
    "\n",
    "    @property\n",
    "    def email(self):\n",
    "        return '{}.{}@email.com'.format(self.first,self.last)\n",
    "\n",
    "    @property    \n",
    "    def fullname(self):\n",
    "        return '{} {}'.format(self.first,self.last)\n",
    "\n",
    "emp_1 = Employee('John','Smith')\n",
    "\n",
    "emp_1.first = 'karan'\n",
    "print(emp_1.first)  \n",
    "print(emp_1.email)   #calling functions as variables\n",
    "print(emp_1.fullname) "
   ]
  },
  {
   "cell_type": "code",
   "execution_count": null,
   "id": "b94015c8-94a1-4449-98b6-49b8b84681ae",
   "metadata": {},
   "outputs": [],
   "source": []
  }
 ],
 "metadata": {
  "kernelspec": {
   "display_name": "Python 3 (ipykernel)",
   "language": "python",
   "name": "python3"
  },
  "language_info": {
   "codemirror_mode": {
    "name": "ipython",
    "version": 3
   },
   "file_extension": ".py",
   "mimetype": "text/x-python",
   "name": "python",
   "nbconvert_exporter": "python",
   "pygments_lexer": "ipython3",
   "version": "3.9.9"
  }
 },
 "nbformat": 4,
 "nbformat_minor": 5
}
