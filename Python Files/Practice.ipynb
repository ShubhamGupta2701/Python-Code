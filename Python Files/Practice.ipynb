{
 "cells": [
  {
   "cell_type": "code",
   "execution_count": 3,
   "id": "83cf892c-bbd3-460f-884f-093250ba4db9",
   "metadata": {},
   "outputs": [
    {
     "name": "stdin",
     "output_type": "stream",
     "text": [
      "Enter the temprature:  60\n"
     ]
    },
    {
     "name": "stdout",
     "output_type": "stream",
     "text": [
      "140.0  temprature in fahrenheit\n"
     ]
    }
   ],
   "source": [
    "t_celcius = int(input(\"Enter the temprature: \"))\n",
    "t_fahrenheit = 9*(t_celcius/5)+32\n",
    "print(t_fahrenheit,\" temprature in fahrenheit\")"
   ]
  },
  {
   "cell_type": "code",
   "execution_count": 6,
   "id": "cc8a864e-ea8d-4bfe-8696-aa949318cadd",
   "metadata": {},
   "outputs": [
    {
     "name": "stdin",
     "output_type": "stream",
     "text": [
      " 3\n"
     ]
    },
    {
     "name": "stdout",
     "output_type": "stream",
     "text": [
      "28.26\n"
     ]
    }
   ],
   "source": [
    "radius = int(input())\n",
    "area = 3.14*r**2\n",
    "print(area)"
   ]
  },
  {
   "cell_type": "code",
   "execution_count": 13,
   "id": "18ddd54f-eb18-445d-aedd-e8ab6300ec44",
   "metadata": {},
   "outputs": [
    {
     "name": "stdin",
     "output_type": "stream",
     "text": [
      " 78\n"
     ]
    },
    {
     "name": "stdout",
     "output_type": "stream",
     "text": [
      "UB\n"
     ]
    }
   ],
   "source": [
    "seat_no = int(input())\n",
    "if(seat_no%8 == 1 or seat_no%8 ==4):\n",
    "    print(\"LB\")\n",
    "elif(seat_no%8 == 2 or seat_no%8 ==5):\n",
    "    print(\"MB\")\n",
    "elif(seat_no%8 == 3 or seat_no%8 ==6):\n",
    "    print(\"UB\")\n",
    "elif(seat_no%8==7):\n",
    "    print(\"SL\")\n",
    "else:\n",
    "    print(\"SU\")"
   ]
  },
  {
   "cell_type": "code",
   "execution_count": 14,
   "id": "9abcc4e0-c8db-4cc6-87ad-9b5e0ac899f3",
   "metadata": {},
   "outputs": [
    {
     "name": "stdin",
     "output_type": "stream",
     "text": [
      " 3\n",
      " 4\n"
     ]
    },
    {
     "name": "stdout",
     "output_type": "stream",
     "text": [
      "3\n",
      "4\n",
      "12\n"
     ]
    }
   ],
   "source": [
    "tlc = int(input())\n",
    "brc = int(input())\n",
    "length = tlc\n",
    "breadth = brc\n",
    "area = length * breadth \n",
    "print(length)\n",
    "print(breadth)\n",
    "print(area)"
   ]
  },
  {
   "cell_type": "code",
   "execution_count": 23,
   "id": "cbeb52dd-bc9f-4a63-83ba-aa5583025040",
   "metadata": {},
   "outputs": [
    {
     "name": "stdin",
     "output_type": "stream",
     "text": [
      " 3\n",
      " 4\n",
      " 5\n"
     ]
    },
    {
     "name": "stdout",
     "output_type": "stream",
     "text": [
      "Right angled triangle\n"
     ]
    }
   ],
   "source": [
    "s1 = int(input())\n",
    "s2 = int(input())\n",
    "s3 = int(input())\n",
    "if(s1 == s2 == s3):\n",
    "    print(\"Equilateral Triangle\")\n",
    "elif(s1 == s2 != s3 or s1 != s2 == s3 or s1 == s3 != s2):\n",
    "    print(\"isosceles triangle\")\n",
    "elif(s1**2 == s2**2+s3**2 or s2**2== s1**2+s3**2 or s3**2== s1**2+s2**2):\n",
    "    print(\"Right angled triangle\")\n",
    "else:\n",
    "    print(\"Ordinary Triangle\")"
   ]
  },
  {
   "cell_type": "code",
   "execution_count": 32,
   "id": "8636fc84-57db-4a08-895b-c6b991f16725",
   "metadata": {},
   "outputs": [
    {
     "name": "stdin",
     "output_type": "stream",
     "text": [
      " 1\n",
      " 2\n",
      " 1\n"
     ]
    },
    {
     "name": "stdout",
     "output_type": "stream",
     "text": [
      "-1.0\n"
     ]
    }
   ],
   "source": [
    "from math import sqrt\n",
    "a = int(input())\n",
    "b = int(input())\n",
    "c = int(input())\n",
    "D = b**2 - 4*a*c\n",
    "if(D>0):\n",
    "    print((-b + sqrt(abs(D)))/2*a)\n",
    "    print((-b - sqrt(abs(D)))/2*a)\n",
    "elif(D==0):\n",
    "    print(-b/(2*a))\n",
    "else:\n",
    "    print(-b/(2*a),\" +i\")\n",
    "    print(-b/(2*a),\" -i\")"
   ]
  },
  {
   "cell_type": "code",
   "execution_count": 41,
   "id": "d429f0e0-f3ba-4c43-8daf-d98d5e0766b7",
   "metadata": {},
   "outputs": [
    {
     "name": "stdout",
     "output_type": "stream",
     "text": [
      "{'s', 'j', 'a', 'n', 'r'}\n",
      "{'s'}\n",
      "set()\n",
      "{'n'} {'n', 'r'} {'a', 'n'}\n",
      "{'n'}\n"
     ]
    }
   ],
   "source": [
    "m = {'r','j','n'}\n",
    "e = {'a','n','s'}\n",
    "p = {'n','r','a'}\n",
    "print(m.union(e,p))\n",
    "print(e.difference(m,p))\n",
    "print(m.intersection(e).difference(p))\n",
    "print(m.intersection(e),m.intersection(p),e.intersection(p))\n",
    "print(m.intersection(e,p))"
   ]
  },
  {
   "cell_type": "code",
   "execution_count": 45,
   "id": "df221c56-bac1-4007-a514-df351438a6aa",
   "metadata": {},
   "outputs": [
    {
     "name": "stdout",
     "output_type": "stream",
     "text": [
      "120\n"
     ]
    }
   ],
   "source": [
    "l = [1,2,3,4,5]\n",
    "ans = 1\n",
    "for i in l:\n",
    "    ans = i*ans\n",
    "print(ans)"
   ]
  },
  {
   "cell_type": "code",
   "execution_count": null,
   "id": "9a1bbe1f-9ad6-4f30-886f-185be36cc080",
   "metadata": {},
   "outputs": [],
   "source": []
  }
 ],
 "metadata": {
  "kernelspec": {
   "display_name": "Python 3 (ipykernel)",
   "language": "python",
   "name": "python3"
  },
  "language_info": {
   "codemirror_mode": {
    "name": "ipython",
    "version": 3
   },
   "file_extension": ".py",
   "mimetype": "text/x-python",
   "name": "python",
   "nbconvert_exporter": "python",
   "pygments_lexer": "ipython3",
   "version": "3.9.9"
  }
 },
 "nbformat": 4,
 "nbformat_minor": 5
}
