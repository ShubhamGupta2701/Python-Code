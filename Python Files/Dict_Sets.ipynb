{
 "cells": [
  {
   "cell_type": "code",
   "execution_count": 1,
   "id": "554cbf3f-c957-426d-ab39-992b59d12416",
   "metadata": {},
   "outputs": [
    {
     "data": {
      "text/plain": [
       "{'Apple': 20, 'Mango': 50}"
      ]
     },
     "execution_count": 1,
     "metadata": {},
     "output_type": "execute_result"
    }
   ],
   "source": [
    "# Dictionary is an unordered collection of values pairs enclosed with {}\n",
    "fruit = {'Apple':20,'Mango':50}\n",
    "fruit"
   ]
  },
  {
   "cell_type": "code",
   "execution_count": 2,
   "id": "3f23ffd3-c665-46c9-b1e0-0e6b708c740f",
   "metadata": {},
   "outputs": [
    {
     "data": {
      "text/plain": [
       "dict"
      ]
     },
     "execution_count": 2,
     "metadata": {},
     "output_type": "execute_result"
    }
   ],
   "source": [
    "type(fruit)"
   ]
  },
  {
   "cell_type": "code",
   "execution_count": 3,
   "id": "5a654f71-2c0b-491d-9d95-558ad7a1dcc6",
   "metadata": {},
   "outputs": [
    {
     "data": {
      "text/plain": [
       "dict_keys(['Apple', 'Mango'])"
      ]
     },
     "execution_count": 3,
     "metadata": {},
     "output_type": "execute_result"
    }
   ],
   "source": [
    "fruit.keys()  # To take only keys as output "
   ]
  },
  {
   "cell_type": "code",
   "execution_count": 4,
   "id": "701b96ad-5bce-4f2b-a049-0840f9feeb1d",
   "metadata": {},
   "outputs": [
    {
     "data": {
      "text/plain": [
       "dict_values([20, 50])"
      ]
     },
     "execution_count": 4,
     "metadata": {},
     "output_type": "execute_result"
    }
   ],
   "source": [
    "fruit.values()  # To take only values as output"
   ]
  },
  {
   "cell_type": "code",
   "execution_count": 5,
   "id": "51002435-5fdd-4fe1-8789-3ca4b228214e",
   "metadata": {},
   "outputs": [],
   "source": [
    "fruit['Mango'] = 200   # Change the value of an existing key."
   ]
  },
  {
   "cell_type": "code",
   "execution_count": 6,
   "id": "b2f257cc-224a-4313-a0de-093ef733f21b",
   "metadata": {},
   "outputs": [
    {
     "data": {
      "text/plain": [
       "{'Apple': 20, 'Mango': 200}"
      ]
     },
     "execution_count": 6,
     "metadata": {},
     "output_type": "execute_result"
    }
   ],
   "source": [
    "fruit"
   ]
  },
  {
   "cell_type": "code",
   "execution_count": 7,
   "id": "437a1ff3-6896-4ff7-92a6-17ada8f9995b",
   "metadata": {},
   "outputs": [
    {
     "data": {
      "text/plain": [
       "{'Apple': 20, 'Mango': 200, 'Banana': 50}"
      ]
     },
     "execution_count": 7,
     "metadata": {},
     "output_type": "execute_result"
    }
   ],
   "source": [
    "# To Add a new value in an existing Dictionary.\n",
    "fruit['Banana'] = 50 \n",
    "fruit"
   ]
  },
  {
   "cell_type": "code",
   "execution_count": 7,
   "id": "40b92df0-9e7d-48cf-ae1f-6d1e4e3d327b",
   "metadata": {},
   "outputs": [
    {
     "name": "stdout",
     "output_type": "stream",
     "text": [
      "{'Apple': 20, 'Mango': 500}\n",
      "{'Banana': 10, 'Pineapple': 50, 'Apple': 20, 'Mango': 500}\n"
     ]
    }
   ],
   "source": [
    "# to append two dictionaries\n",
    "d1 = {\"Apple\":20 , \"Mango\": 500}\n",
    "d2 = {\"Banana\":10, \"Pineapple\": 50}\n",
    "d2.update(d1)\n",
    "print(d1)\n",
    "print(d2)"
   ]
  },
  {
   "cell_type": "code",
   "execution_count": 19,
   "id": "91914d86-3804-4c00-a887-3841b2acfa1d",
   "metadata": {},
   "outputs": [
    {
     "data": {
      "text/plain": [
       "{'Mango': 500, 'Apple': 10, 'PineApple': 30}"
      ]
     },
     "execution_count": 19,
     "metadata": {},
     "output_type": "execute_result"
    }
   ],
   "source": [
    "dictionary = {'Mango':500, 'Banana':50, 'Apple':10, 'PineApple':30}\n",
    "dictionary.pop('Banana')\n",
    "dictionary"
   ]
  },
  {
   "cell_type": "code",
   "execution_count": 8,
   "id": "ab4c7832-093e-4911-b3b8-361ce152ad1c",
   "metadata": {},
   "outputs": [
    {
     "data": {
      "text/plain": [
       "{0, 1, 'a'}"
      ]
     },
     "execution_count": 8,
     "metadata": {},
     "output_type": "execute_result"
    }
   ],
   "source": [
    "# Set is an unordered and unindexed collection of elements enclosed with {}\n",
    "s1 = {1,0,'a',True,False}\n",
    "s1\n",
    "\n",
    "#duplicate values weren't allowed in sets."
   ]
  },
  {
   "cell_type": "code",
   "execution_count": 2,
   "id": "768ada52-aad0-499b-a8b3-55161ab7e581",
   "metadata": {},
   "outputs": [
    {
     "data": {
      "text/plain": [
       "{(3+4j), 1, 2, 3.12, 'ssss'}"
      ]
     },
     "execution_count": 2,
     "metadata": {},
     "output_type": "execute_result"
    }
   ],
   "source": [
    "# As we know that sets doesn't have any order thats why they store randomly.\n",
    "s1 = {1,2,3.12,'ssss',3+4j,'ssss'}\n",
    "s1"
   ]
  },
  {
   "cell_type": "code",
   "execution_count": 3,
   "id": "97020cfb-596e-4457-8c30-4a122590e4e8",
   "metadata": {},
   "outputs": [
    {
     "data": {
      "text/plain": [
       "{(3+4j), 1, 2, 3.12, 'hi', 'ppp', 'ssss'}"
      ]
     },
     "execution_count": 3,
     "metadata": {},
     "output_type": "execute_result"
    }
   ],
   "source": [
    "# to add a single element in set \n",
    "s1.add('hi')\n",
    "s1\n",
    "s1.add('ppp')\n",
    "s1"
   ]
  },
  {
   "cell_type": "code",
   "execution_count": 5,
   "id": "1c75a598-2494-4f62-beca-f763296112b5",
   "metadata": {},
   "outputs": [
    {
     "data": {
      "text/plain": [
       "{(3+4j), 1, 10, 2, 20, 3.12, 'hi', 'ppp', 'shubham', 'ssss'}"
      ]
     },
     "execution_count": 5,
     "metadata": {},
     "output_type": "execute_result"
    }
   ],
   "source": [
    "# To add multiple values in set \n",
    "s1.update([10,20,'shubham'])\n",
    "s1"
   ]
  },
  {
   "cell_type": "code",
   "execution_count": 6,
   "id": "99b4fe9b-7581-48fa-b3fd-ee479b53471b",
   "metadata": {},
   "outputs": [],
   "source": [
    "# To remove an element from set \n",
    "s1.remove('ssss')"
   ]
  },
  {
   "cell_type": "code",
   "execution_count": 7,
   "id": "77273f42-aab4-4eaa-b905-532558a52a16",
   "metadata": {},
   "outputs": [
    {
     "data": {
      "text/plain": [
       "{(3+4j), 1, 10, 2, 20, 3.12, 'hi', 'ppp', 'shubham'}"
      ]
     },
     "execution_count": 7,
     "metadata": {},
     "output_type": "execute_result"
    }
   ],
   "source": [
    "s1"
   ]
  },
  {
   "cell_type": "code",
   "execution_count": 27,
   "id": "93e810bb-176d-4cc9-a782-278c6c02b61d",
   "metadata": {},
   "outputs": [
    {
     "data": {
      "text/plain": [
       "{1, 2, 3, 4, 5}"
      ]
     },
     "execution_count": 27,
     "metadata": {},
     "output_type": "execute_result"
    }
   ],
   "source": [
    "# suppose we have two sets .\n",
    "# We can use funcitons like union , intersection etc.\n",
    "set_1 = {1,2,3}\n",
    "set_2 = {3,4,5}\n",
    "set_1.union(set_2)"
   ]
  },
  {
   "cell_type": "code",
   "execution_count": 28,
   "id": "da27fd61-6847-41d4-b852-a8040ac03d16",
   "metadata": {},
   "outputs": [
    {
     "data": {
      "text/plain": [
       "{3}"
      ]
     },
     "execution_count": 28,
     "metadata": {},
     "output_type": "execute_result"
    }
   ],
   "source": [
    "set_1.intersection(set_2)"
   ]
  },
  {
   "cell_type": "code",
   "execution_count": null,
   "id": "13e04d89-c52b-4656-89a7-d3fb79032575",
   "metadata": {},
   "outputs": [],
   "source": []
  }
 ],
 "metadata": {
  "kernelspec": {
   "display_name": "Python 3 (ipykernel)",
   "language": "python",
   "name": "python3"
  },
  "language_info": {
   "codemirror_mode": {
    "name": "ipython",
    "version": 3
   },
   "file_extension": ".py",
   "mimetype": "text/x-python",
   "name": "python",
   "nbconvert_exporter": "python",
   "pygments_lexer": "ipython3",
   "version": "3.9.9"
  }
 },
 "nbformat": 4,
 "nbformat_minor": 5
}
