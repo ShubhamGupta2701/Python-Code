{
 "cells": [
  {
   "cell_type": "code",
   "execution_count": 1,
   "id": "453588d9-5c1a-4130-944e-041314ca9570",
   "metadata": {},
   "outputs": [],
   "source": [
    "#False  #finally  #for  #return\n",
    "#class  #continue #lambda  #try\n",
    "#def    #del   #nonlocal  #while\n",
    "#True   #not   #with   #elif \n",
    "#and    #or   #yield    #as"
   ]
  },
  {
   "cell_type": "code",
   "execution_count": 2,
   "id": "3f32881f-d9d1-47cc-acaa-f74a8b19ed23",
   "metadata": {},
   "outputs": [],
   "source": [
    "student = \"Shubham \""
   ]
  },
  {
   "cell_type": "code",
   "execution_count": 3,
   "id": "2568ea0a-f033-4a6d-8680-0f64360c9783",
   "metadata": {},
   "outputs": [],
   "source": [
    "Student = \"Gupta\""
   ]
  },
  {
   "cell_type": "code",
   "execution_count": 4,
   "id": "d3ea1625-6f5e-40f5-afd9-de611fb8271d",
   "metadata": {},
   "outputs": [
    {
     "data": {
      "text/plain": [
       "'Shubham Gupta'"
      ]
     },
     "execution_count": 4,
     "metadata": {},
     "output_type": "execute_result"
    }
   ],
   "source": [
    "student + Student"
   ]
  },
  {
   "cell_type": "code",
   "execution_count": 5,
   "id": "0470d3d3-eab3-460c-919d-a8d261425d10",
   "metadata": {},
   "outputs": [],
   "source": [
    "str1 = 'this is my first string'"
   ]
  },
  {
   "cell_type": "code",
   "execution_count": 6,
   "id": "ecc20327-d7a6-4313-9d97-2e1acbc89903",
   "metadata": {},
   "outputs": [
    {
     "name": "stdout",
     "output_type": "stream",
     "text": [
      "this is my first string\n"
     ]
    }
   ],
   "source": [
    "print(str1)"
   ]
  },
  {
   "cell_type": "code",
   "execution_count": 7,
   "id": "955594f2-1bca-4503-9b27-9b9596a31fa8",
   "metadata": {},
   "outputs": [],
   "source": [
    "str2 = \"This is my 2nd string\"\n"
   ]
  },
  {
   "cell_type": "code",
   "execution_count": 8,
   "id": "e30abf08-140b-4535-a3e2-a423910aeda9",
   "metadata": {},
   "outputs": [
    {
     "data": {
      "text/plain": [
       "'This is my 2nd string'"
      ]
     },
     "execution_count": 8,
     "metadata": {},
     "output_type": "execute_result"
    }
   ],
   "source": [
    "str2"
   ]
  },
  {
   "cell_type": "code",
   "execution_count": 9,
   "id": "98bcf08c-b59b-4e01-8dd2-74a2599b6727",
   "metadata": {},
   "outputs": [],
   "source": [
    "str3 ='''this string has\n",
    "no. of lines in it'''"
   ]
  },
  {
   "cell_type": "code",
   "execution_count": 10,
   "id": "61329326-53fb-4b44-abcd-e7fa98fa6a46",
   "metadata": {},
   "outputs": [
    {
     "data": {
      "text/plain": [
       "'this string has\\nno. of lines in it'"
      ]
     },
     "execution_count": 10,
     "metadata": {},
     "output_type": "execute_result"
    }
   ],
   "source": [
    "str3\n"
   ]
  },
  {
   "cell_type": "code",
   "execution_count": 11,
   "id": "c4348282-4a62-4391-8de9-0cb248d6468c",
   "metadata": {},
   "outputs": [
    {
     "name": "stdout",
     "output_type": "stream",
     "text": [
      "My name is Shubham.\n",
      "19\n"
     ]
    }
   ],
   "source": [
    "string1 = 'My name is Shubham.'\n",
    "print(string1)\n",
    "print(len(string1))"
   ]
  },
  {
   "cell_type": "code",
   "execution_count": 12,
   "id": "fb0bee12-3375-4b01-80ac-2665adbde686",
   "metadata": {},
   "outputs": [
    {
     "data": {
      "text/plain": [
       "'M'"
      ]
     },
     "execution_count": 12,
     "metadata": {},
     "output_type": "execute_result"
    }
   ],
   "source": [
    "string1[0]"
   ]
  },
  {
   "cell_type": "code",
   "execution_count": 13,
   "id": "005c82c0-292c-4ee1-aca0-be4752575722",
   "metadata": {},
   "outputs": [
    {
     "data": {
      "text/plain": [
       "'.'"
      ]
     },
     "execution_count": 13,
     "metadata": {},
     "output_type": "execute_result"
    }
   ],
   "source": [
    "string1[-1]"
   ]
  },
  {
   "cell_type": "code",
   "execution_count": 14,
   "id": "88f25af9-f27b-4bf1-8fd0-73e7d756c006",
   "metadata": {},
   "outputs": [
    {
     "data": {
      "text/plain": [
       "'Shubham.'"
      ]
     },
     "execution_count": 14,
     "metadata": {},
     "output_type": "execute_result"
    }
   ],
   "source": [
    "string1[11:]"
   ]
  },
  {
   "cell_type": "code",
   "execution_count": 15,
   "id": "befb8485-2e6b-4225-93c2-bec371fb0faa",
   "metadata": {},
   "outputs": [
    {
     "data": {
      "text/plain": [
       "'Shubham'"
      ]
     },
     "execution_count": 15,
     "metadata": {},
     "output_type": "execute_result"
    }
   ],
   "source": [
    "string1[11:-1]"
   ]
  },
  {
   "cell_type": "code",
   "execution_count": 16,
   "id": "5407e6a1-97ae-4bee-8682-0c65bcf2ff4a",
   "metadata": {},
   "outputs": [
    {
     "data": {
      "text/plain": [
       "'My name is Shubham'"
      ]
     },
     "execution_count": 16,
     "metadata": {},
     "output_type": "execute_result"
    }
   ],
   "source": [
    "string1[0:-1]"
   ]
  },
  {
   "cell_type": "code",
   "execution_count": 17,
   "id": "7ff791f0-cfc7-4d67-9c8d-c3621baa2d43",
   "metadata": {},
   "outputs": [
    {
     "data": {
      "text/plain": [
       "19"
      ]
     },
     "execution_count": 17,
     "metadata": {},
     "output_type": "execute_result"
    }
   ],
   "source": [
    "len(string1)   #this is to find the length of the string."
   ]
  },
  {
   "cell_type": "code",
   "execution_count": 18,
   "id": "0e50e979-aa52-42f0-b971-3cc51ba8ab9a",
   "metadata": {},
   "outputs": [
    {
     "data": {
      "text/plain": [
       "'my name is shubham.'"
      ]
     },
     "execution_count": 18,
     "metadata": {},
     "output_type": "execute_result"
    }
   ],
   "source": [
    "string1.lower()\n",
    "# This is used to lower all the value inside a string."
   ]
  },
  {
   "cell_type": "code",
   "execution_count": 19,
   "id": "10fad1e4-318f-4e84-897c-76da2776101d",
   "metadata": {},
   "outputs": [
    {
     "data": {
      "text/plain": [
       "'MY NAME IS SHUBHAM.'"
      ]
     },
     "execution_count": 19,
     "metadata": {},
     "output_type": "execute_result"
    }
   ],
   "source": [
    "string1.upper()\n",
    "# This function is used to captalize alll the characters inside a string."
   ]
  },
  {
   "cell_type": "code",
   "execution_count": 25,
   "id": "2eab0861-4e62-418a-9c56-490ce68a4ac4",
   "metadata": {},
   "outputs": [
    {
     "name": "stdout",
     "output_type": "stream",
     "text": [
      "My name is Aanchal.\n"
     ]
    }
   ],
   "source": [
    "string1 = string1.replace('Shubham','Aanchal')\n",
    "print(string1)\n",
    "#This function is used to replace values with some another value inside a string."
   ]
  },
  {
   "cell_type": "code",
   "execution_count": 24,
   "id": "0025d8ee-b3a6-4ae0-b216-3ab8ba8bbbbd",
   "metadata": {},
   "outputs": [
    {
     "data": {
      "text/plain": [
       "3"
      ]
     },
     "execution_count": 24,
     "metadata": {},
     "output_type": "execute_result"
    }
   ],
   "source": [
    "string1.count('a')\n",
    "# This function is used to count the values inside the string."
   ]
  },
  {
   "cell_type": "code",
   "execution_count": 22,
   "id": "40a04dbb-79cc-44d8-9641-8511184052ca",
   "metadata": {},
   "outputs": [
    {
     "data": {
      "text/plain": [
       "9"
      ]
     },
     "execution_count": 22,
     "metadata": {},
     "output_type": "execute_result"
    }
   ],
   "source": [
    "string1.find('is')\n",
    "# This function is used to find the index of the value we want to find"
   ]
  },
  {
   "cell_type": "code",
   "execution_count": 26,
   "id": "fee279d6-3319-4b83-a923-031beddd6e70",
   "metadata": {},
   "outputs": [
    {
     "data": {
      "text/plain": [
       "['I like Mangoes, ', ' i also like Pineapple.']"
      ]
     },
     "execution_count": 26,
     "metadata": {},
     "output_type": "execute_result"
    }
   ],
   "source": [
    "str2 = \"I like Mangoes, But i also like Pineapple.\"\n",
    "str2.split('But')\n",
    "# This function is used to split the string using any value of without any value.\n",
    "#str2.split()"
   ]
  },
  {
   "cell_type": "code",
   "execution_count": null,
   "id": "4d5c2bfc-8c6b-48aa-9cda-b8f8a455e6d3",
   "metadata": {},
   "outputs": [],
   "source": []
  }
 ],
 "metadata": {
  "kernelspec": {
   "display_name": "Python 3 (ipykernel)",
   "language": "python",
   "name": "python3"
  },
  "language_info": {
   "codemirror_mode": {
    "name": "ipython",
    "version": 3
   },
   "file_extension": ".py",
   "mimetype": "text/x-python",
   "name": "python",
   "nbconvert_exporter": "python",
   "pygments_lexer": "ipython3",
   "version": "3.9.9"
  }
 },
 "nbformat": 4,
 "nbformat_minor": 5
}
