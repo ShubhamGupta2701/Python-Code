{
 "cells": [
  {
   "cell_type": "code",
   "execution_count": 4,
   "id": "fc79485a-26fd-4951-be22-3a44605e13bc",
   "metadata": {},
   "outputs": [
    {
     "data": {
      "text/plain": [
       "(10, 'a', True, (18+9j))"
      ]
     },
     "execution_count": 4,
     "metadata": {},
     "output_type": "execute_result"
    }
   ],
   "source": [
    "t1 = (10,'a',True,18 + 9j) #Tuple data type\n",
    "t1"
   ]
  },
  {
   "cell_type": "code",
   "execution_count": 5,
   "id": "9828211f-1706-470e-b845-fb6abcfad30d",
   "metadata": {},
   "outputs": [
    {
     "data": {
      "text/plain": [
       "tuple"
      ]
     },
     "execution_count": 5,
     "metadata": {},
     "output_type": "execute_result"
    }
   ],
   "source": [
    "type(t1)"
   ]
  },
  {
   "cell_type": "code",
   "execution_count": 10,
   "id": "983f092b-c8bf-4708-a2bd-a37c7cda3a93",
   "metadata": {},
   "outputs": [
    {
     "data": {
      "text/plain": [
       "10"
      ]
     },
     "execution_count": 10,
     "metadata": {},
     "output_type": "execute_result"
    }
   ],
   "source": [
    "t1[0]"
   ]
  },
  {
   "cell_type": "code",
   "execution_count": 11,
   "id": "fa527e26-e121-4e48-809b-ef59c205de81",
   "metadata": {},
   "outputs": [
    {
     "data": {
      "text/plain": [
       "(18+9j)"
      ]
     },
     "execution_count": 11,
     "metadata": {},
     "output_type": "execute_result"
    }
   ],
   "source": [
    "t1[3]"
   ]
  },
  {
   "cell_type": "code",
   "execution_count": 5,
   "id": "06d58706-0f21-46f3-aeeb-7f49431166dc",
   "metadata": {},
   "outputs": [
    {
     "data": {
      "text/plain": [
       "tuple[1]"
      ]
     },
     "execution_count": 5,
     "metadata": {},
     "output_type": "execute_result"
    }
   ],
   "source": [
    "tuple[1]"
   ]
  },
  {
   "cell_type": "code",
   "execution_count": 12,
   "id": "8010b336-8c85-4921-a73c-126b048377e4",
   "metadata": {},
   "outputs": [
    {
     "data": {
      "text/plain": [
       "(10, 'a', True, (18+9j))"
      ]
     },
     "execution_count": 12,
     "metadata": {},
     "output_type": "execute_result"
    }
   ],
   "source": [
    "t1[0:]"
   ]
  },
  {
   "cell_type": "code",
   "execution_count": 7,
   "id": "293765df-ed8b-4bcb-ab6c-25cd71247c7b",
   "metadata": {},
   "outputs": [
    {
     "ename": "TypeError",
     "evalue": "'type' object does not support item assignment",
     "output_type": "error",
     "traceback": [
      "\u001b[1;31m---------------------------------------------------------------------------\u001b[0m",
      "\u001b[1;31mTypeError\u001b[0m                                 Traceback (most recent call last)",
      "\u001b[1;32m~\\AppData\\Local\\Temp/ipykernel_12308/391787380.py\u001b[0m in \u001b[0;36m<module>\u001b[1;34m\u001b[0m\n\u001b[1;32m----> 1\u001b[1;33m \u001b[0mtuple\u001b[0m\u001b[1;33m[\u001b[0m\u001b[1;36m2\u001b[0m\u001b[1;33m]\u001b[0m \u001b[1;33m=\u001b[0m \u001b[1;32mFalse\u001b[0m  \u001b[1;31m# We can not change the value of tuple.\u001b[0m\u001b[1;33m\u001b[0m\u001b[1;33m\u001b[0m\u001b[0m\n\u001b[0m",
      "\u001b[1;31mTypeError\u001b[0m: 'type' object does not support item assignment"
     ]
    }
   ],
   "source": [
    "t1[2] = False  # We can not change the value of tuple."
   ]
  },
  {
   "cell_type": "code",
   "execution_count": 14,
   "id": "a4c65eea-64b8-4a60-807b-331f14d13c46",
   "metadata": {},
   "outputs": [
    {
     "name": "stdout",
     "output_type": "stream",
     "text": [
      "4\n"
     ]
    }
   ],
   "source": [
    "print(len(t1))"
   ]
  },
  {
   "cell_type": "code",
   "execution_count": 18,
   "id": "0696a254-f06c-490a-93be-0d0d3480ef64",
   "metadata": {},
   "outputs": [],
   "source": [
    "tuple_1 = (1,'a',10+1j)"
   ]
  },
  {
   "cell_type": "code",
   "execution_count": 19,
   "id": "a95471cd-30bd-46fb-9c09-24d99c62df88",
   "metadata": {},
   "outputs": [
    {
     "data": {
      "text/plain": [
       "3"
      ]
     },
     "execution_count": 19,
     "metadata": {},
     "output_type": "execute_result"
    }
   ],
   "source": [
    "len(tuple_1)"
   ]
  },
  {
   "cell_type": "code",
   "execution_count": 20,
   "id": "8e7092aa-5d18-45ca-80fb-b1fd18c905c6",
   "metadata": {},
   "outputs": [
    {
     "data": {
      "text/plain": [
       "(1, 2, 3, 1, 2, 3, 1, 2, 3, 1, 2, 3, 1, 2, 3, 5, 6, 5, 6, 5, 6)"
      ]
     },
     "execution_count": 20,
     "metadata": {},
     "output_type": "execute_result"
    }
   ],
   "source": [
    "t1 = (1,2,3)\n",
    "t2 = (5,6)\n",
    "new_tuple = t1*5 + t2*3\n",
    "new_tuple"
   ]
  },
  {
   "cell_type": "code",
   "execution_count": 2,
   "id": "15139a04-21d7-4108-9aba-8548a67fc0fa",
   "metadata": {},
   "outputs": [
    {
     "data": {
      "text/plain": [
       "[1, 'b', True]"
      ]
     },
     "execution_count": 2,
     "metadata": {},
     "output_type": "execute_result"
    }
   ],
   "source": [
    "#List \n",
    "L1 = [1,'b',True]\n",
    "L1\n",
    "# we can change the items of a list and we create a list using square brackets .\n",
    "# where to create a tuple we use round brackets."
   ]
  },
  {
   "cell_type": "code",
   "execution_count": 3,
   "id": "18f6866f-5fed-44b4-8cd3-c3ea18561fdd",
   "metadata": {},
   "outputs": [
    {
     "data": {
      "text/plain": [
       "True"
      ]
     },
     "execution_count": 3,
     "metadata": {},
     "output_type": "execute_result"
    }
   ],
   "source": [
    "L1[-1]"
   ]
  },
  {
   "cell_type": "code",
   "execution_count": 9,
   "id": "6a55d3e2-b2f2-46d2-a842-a7aa42ffb5a9",
   "metadata": {},
   "outputs": [
    {
     "data": {
      "text/plain": [
       "['a', 2, 'b']"
      ]
     },
     "execution_count": 9,
     "metadata": {},
     "output_type": "execute_result"
    }
   ],
   "source": [
    "L2 = [1,'a',2,'b',3,'c']\n",
    "len(L2)\n",
    "L2[1:-2]"
   ]
  },
  {
   "cell_type": "code",
   "execution_count": 5,
   "id": "95d38af6-048d-4695-a48b-3e683c7c5924",
   "metadata": {},
   "outputs": [
    {
     "data": {
      "text/plain": [
       "[1, 'b', True, 1, 'a', 2, 'b', 3, 'c']"
      ]
     },
     "execution_count": 5,
     "metadata": {},
     "output_type": "execute_result"
    }
   ],
   "source": [
    "L1 + L2"
   ]
  },
  {
   "cell_type": "code",
   "execution_count": 10,
   "id": "bf7d3389-899c-4638-a9db-53d4fbc2c7f4",
   "metadata": {},
   "outputs": [
    {
     "name": "stdout",
     "output_type": "stream",
     "text": [
      "[1, 'a', 2, 'b', 3, 'c', (3+6j)]\n"
     ]
    }
   ],
   "source": [
    "# To add a new element in a list we use append function \n",
    "L2.append(3 + 6j)\n",
    "print(L2)"
   ]
  },
  {
   "cell_type": "code",
   "execution_count": 11,
   "id": "c6135008-cefc-48e1-ae5d-fadaf170a2b0",
   "metadata": {},
   "outputs": [
    {
     "data": {
      "text/plain": [
       "(3+6j)"
      ]
     },
     "execution_count": 11,
     "metadata": {},
     "output_type": "execute_result"
    }
   ],
   "source": [
    "L2.pop()  # To remove an element from a list "
   ]
  },
  {
   "cell_type": "code",
   "execution_count": 13,
   "id": "23ce9583-2008-4bba-a7d9-78020c568c43",
   "metadata": {},
   "outputs": [
    {
     "name": "stdout",
     "output_type": "stream",
     "text": [
      "[1, 'a', 2, 'b', 3, 'c']\n",
      "['c', 3, 'b', 2, 'a', 1]\n"
     ]
    }
   ],
   "source": [
    "# To reverse a list use function reverse\n",
    "print(L2)\n",
    "L2.reverse()\n",
    "print(L2)"
   ]
  },
  {
   "cell_type": "code",
   "execution_count": 11,
   "id": "9c059e89-fb11-4b18-ba36-ca0b0c469ca0",
   "metadata": {},
   "outputs": [
    {
     "data": {
      "text/plain": [
       "['c', 3, 'b', 2, 'a', 'Shubham', 1]"
      ]
     },
     "execution_count": 11,
     "metadata": {},
     "output_type": "execute_result"
    }
   ],
   "source": [
    "# To add a new element at a defined location we use insert function \n",
    "L2.insert(5,'Shubham')\n",
    "L2"
   ]
  },
  {
   "cell_type": "code",
   "execution_count": 34,
   "id": "1e08486d-9bf3-4951-b33b-9cdfbd2cfd62",
   "metadata": {},
   "outputs": [
    {
     "data": {
      "text/plain": [
       "['a', 'b', 'f', 'm', 't']"
      ]
     },
     "execution_count": 34,
     "metadata": {},
     "output_type": "execute_result"
    }
   ],
   "source": [
    "# To Sort a list just use sort function\n",
    "List = ['a','f','b','t','m']\n",
    "List.sort()\n",
    "List"
   ]
  },
  {
   "cell_type": "code",
   "execution_count": 12,
   "id": "1726cde0-922a-4bbe-b80e-233eee343829",
   "metadata": {},
   "outputs": [
    {
     "ename": "NameError",
     "evalue": "name 'List' is not defined",
     "output_type": "error",
     "traceback": [
      "\u001b[1;31m---------------------------------------------------------------------------\u001b[0m",
      "\u001b[1;31mNameError\u001b[0m                                 Traceback (most recent call last)",
      "\u001b[1;32m~\\AppData\\Local\\Temp/ipykernel_2184/550454341.py\u001b[0m in \u001b[0;36m<module>\u001b[1;34m\u001b[0m\n\u001b[1;32m----> 1\u001b[1;33m \u001b[0mList\u001b[0m\u001b[1;33m*\u001b[0m\u001b[1;36m2\u001b[0m\u001b[1;33m\u001b[0m\u001b[1;33m\u001b[0m\u001b[0m\n\u001b[0m",
      "\u001b[1;31mNameError\u001b[0m: name 'List' is not defined"
     ]
    }
   ],
   "source": []
  },
  {
   "cell_type": "code",
   "execution_count": 15,
   "id": "d90a8028-5641-4075-96b6-12ad8c16cd5b",
   "metadata": {},
   "outputs": [],
   "source": [
    "l = []\n",
    "l.append('a')"
   ]
  },
  {
   "cell_type": "code",
   "execution_count": 16,
   "id": "9abcdff9-835d-4f15-b3f4-88c8797ee494",
   "metadata": {},
   "outputs": [
    {
     "name": "stdout",
     "output_type": "stream",
     "text": [
      "['a']\n"
     ]
    }
   ],
   "source": [
    "print(l)"
   ]
  },
  {
   "cell_type": "code",
   "execution_count": 17,
   "id": "eb2f7bca-aa2e-4fef-b1c0-62cbf85c276f",
   "metadata": {},
   "outputs": [],
   "source": [
    "l.append([1,'isha', 3,5,5.5,True])"
   ]
  },
  {
   "cell_type": "code",
   "execution_count": 18,
   "id": "26bd740c-17b2-4cd0-a211-eadf9af3fd24",
   "metadata": {},
   "outputs": [
    {
     "name": "stdout",
     "output_type": "stream",
     "text": [
      "['a', [1, 'isha', 3, 5, 5.5, True]]\n"
     ]
    }
   ],
   "source": [
    "print(l)"
   ]
  },
  {
   "cell_type": "code",
   "execution_count": 23,
   "id": "bb38d936-05a5-46e6-865c-5deca245b6dc",
   "metadata": {},
   "outputs": [
    {
     "name": "stdin",
     "output_type": "stream",
     "text": [
      " 89\n"
     ]
    },
    {
     "name": "stdout",
     "output_type": "stream",
     "text": [
      "[89]\n",
      "89\n",
      "[]\n"
     ]
    }
   ],
   "source": [
    "l1 = []\n",
    "new_ele = int(input())\n",
    "l1.append(new_ele)\n",
    "print(l1)\n",
    "print(l1.pop())\n",
    "print(l1)"
   ]
  },
  {
   "cell_type": "code",
   "execution_count": 24,
   "id": "bbc82c9d-1356-47b6-8cd1-5e5058459e8c",
   "metadata": {},
   "outputs": [
    {
     "name": "stdout",
     "output_type": "stream",
     "text": [
      "[1, 2, 'shubham', 3, 4, 5, 6]\n"
     ]
    }
   ],
   "source": [
    "l3 = [1,2,3,4,5,6]\n",
    "l3.insert(2,\"shubham\") # insert function is  used to add a value at a particular index of list.\n",
    "print(l3)"
   ]
  },
  {
   "cell_type": "code",
   "execution_count": 25,
   "id": "7831384e-76a2-4814-bb54-0749242b173d",
   "metadata": {},
   "outputs": [
    {
     "name": "stdout",
     "output_type": "stream",
     "text": [
      "None\n"
     ]
    }
   ],
   "source": [
    "new_list = [4,1,3,2,7,5,9,13,11]\n",
    "new_list.sort()\n",
    "print(new_list)"
   ]
  },
  {
   "cell_type": "code",
   "execution_count": null,
   "id": "c7195c19-3be7-4689-bc6f-550344b78819",
   "metadata": {},
   "outputs": [],
   "source": []
  }
 ],
 "metadata": {
  "kernelspec": {
   "display_name": "Python 3 (ipykernel)",
   "language": "python",
   "name": "python3"
  },
  "language_info": {
   "codemirror_mode": {
    "name": "ipython",
    "version": 3
   },
   "file_extension": ".py",
   "mimetype": "text/x-python",
   "name": "python",
   "nbconvert_exporter": "python",
   "pygments_lexer": "ipython3",
   "version": "3.9.9"
  }
 },
 "nbformat": 4,
 "nbformat_minor": 5
}
