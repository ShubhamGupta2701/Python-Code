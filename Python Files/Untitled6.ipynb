{
 "cells": [
  {
   "cell_type": "code",
   "execution_count": 1,
   "id": "08a0557a-5312-4992-aee1-a0b858e20862",
   "metadata": {},
   "outputs": [
    {
     "name": "stdout",
     "output_type": "stream",
     "text": [
      "hiiii\n"
     ]
    }
   ],
   "source": [
    "print('hiiii')"
   ]
  },
  {
   "cell_type": "code",
   "execution_count": 2,
   "id": "c930a57c-9a34-4482-807b-81df0c6dd2f3",
   "metadata": {},
   "outputs": [
    {
     "name": "stdout",
     "output_type": "stream",
     "text": [
      "ijfivjd\n"
     ]
    }
   ],
   "source": [
    "print(\"ijfivjd\")"
   ]
  },
  {
   "cell_type": "code",
   "execution_count": 4,
   "id": "297dd1d0-1945-42af-a0b1-3c4c0d6184d9",
   "metadata": {},
   "outputs": [
    {
     "name": "stdout",
     "output_type": "stream",
     "text": [
      "hdsjhfoie\n",
      "dfkhrefh\n",
      "fdshfohref\n",
      "sfreif\n"
     ]
    }
   ],
   "source": [
    "print('''hdsjhfoie\n",
    "dfkhrefh\n",
    "fdshfohref\n",
    "sfreif''')"
   ]
  },
  {
   "cell_type": "code",
   "execution_count": 7,
   "id": "818f5bb3-655a-451a-849c-d52d58e72f07",
   "metadata": {},
   "outputs": [
    {
     "name": "stdout",
     "output_type": "stream",
     "text": [
      "<class 'int'>\n",
      "<class 'float'>\n",
      "<class 'str'>\n",
      "<class 'bool'>\n",
      "<class 'complex'>\n"
     ]
    }
   ],
   "source": [
    "a = 10\n",
    "b = 10.3\n",
    "c = \"shubham\"\n",
    "d = True\n",
    "e = 3 + 4j\n",
    "print(type(a))\n",
    "print(type(b))\n",
    "print(type(c))\n",
    "print(type(d))\n",
    "print(type(e))"
   ]
  },
  {
   "cell_type": "code",
   "execution_count": 8,
   "id": "f9e3476b-b9af-4685-b38b-556a858c4987",
   "metadata": {},
   "outputs": [
    {
     "name": "stdout",
     "output_type": "stream",
     "text": [
      "(3+7j)\n"
     ]
    }
   ],
   "source": [
    "a = 1 + 2j\n",
    "b = 2 + 5j\n",
    "print(a+b)\n"
   ]
  },
  {
   "cell_type": "code",
   "execution_count": 13,
   "id": "71afd204-8fb3-431b-b6f1-015ff33c3e11",
   "metadata": {},
   "outputs": [
    {
     "name": "stdin",
     "output_type": "stream",
     "text": [
      "enter a number :  56\n"
     ]
    },
    {
     "name": "stdout",
     "output_type": "stream",
     "text": [
      "<class 'float'>\n"
     ]
    }
   ],
   "source": [
    "a = float(input(\"enter a number : \"))\n",
    "print(type(a))"
   ]
  },
  {
   "cell_type": "code",
   "execution_count": 14,
   "id": "07484ae5-fc6f-4175-a48d-f6b75a47e95a",
   "metadata": {},
   "outputs": [
    {
     "name": "stdout",
     "output_type": "stream",
     "text": [
      "56.0\n"
     ]
    }
   ],
   "source": [
    "print(a)"
   ]
  },
  {
   "cell_type": "code",
   "execution_count": 15,
   "id": "c93f23cc-bc0b-4dc7-9a63-c06123085085",
   "metadata": {},
   "outputs": [
    {
     "name": "stdin",
     "output_type": "stream",
     "text": [
      "Enter your first name :  isha\n",
      "Enter your last name:  aggrwall\n"
     ]
    },
    {
     "name": "stdout",
     "output_type": "stream",
     "text": [
      "ishaaggrwall\n"
     ]
    }
   ],
   "source": [
    "first_name = input(\"Enter your first name : \")\n",
    "last_name = input(\"Enter your last name: \")\n",
    "full_name = first_name+\" \"+last_name\n",
    "print(full_name)"
   ]
  },
  {
   "cell_type": "code",
   "execution_count": 17,
   "id": "ce16d411-0244-439d-b286-62ecf13ef7d0",
   "metadata": {},
   "outputs": [
    {
     "data": {
      "text/plain": [
       "15"
      ]
     },
     "execution_count": 17,
     "metadata": {},
     "output_type": "execute_result"
    }
   ],
   "source": [
    "a = 10 \n",
    "b = 5\n",
    "a+b"
   ]
  },
  {
   "cell_type": "code",
   "execution_count": 18,
   "id": "a078ab6b-5048-4b7f-8e10-292bdb372a1b",
   "metadata": {},
   "outputs": [
    {
     "data": {
      "text/plain": [
       "5"
      ]
     },
     "execution_count": 18,
     "metadata": {},
     "output_type": "execute_result"
    }
   ],
   "source": [
    "a-b"
   ]
  },
  {
   "cell_type": "code",
   "execution_count": 19,
   "id": "ea419935-25d7-4591-96db-90cc210511d7",
   "metadata": {},
   "outputs": [
    {
     "data": {
      "text/plain": [
       "50"
      ]
     },
     "execution_count": 19,
     "metadata": {},
     "output_type": "execute_result"
    }
   ],
   "source": [
    "a*b"
   ]
  },
  {
   "cell_type": "code",
   "execution_count": 20,
   "id": "0d25a31e-bbb3-43d6-98f7-53afd3d68a1a",
   "metadata": {},
   "outputs": [
    {
     "data": {
      "text/plain": [
       "2.0"
      ]
     },
     "execution_count": 20,
     "metadata": {},
     "output_type": "execute_result"
    }
   ],
   "source": [
    "a/b"
   ]
  },
  {
   "cell_type": "code",
   "execution_count": 23,
   "id": "c5240e9c-e690-448a-8fb2-352bb6e23cff",
   "metadata": {},
   "outputs": [
    {
     "name": "stdout",
     "output_type": "stream",
     "text": [
      "3.0\n"
     ]
    }
   ],
   "source": [
    "a = 10\n",
    "b = 3.2\n",
    "print(a//b)"
   ]
  },
  {
   "cell_type": "code",
   "execution_count": 24,
   "id": "57c777a4-4be0-4278-a10c-48365a0ff731",
   "metadata": {},
   "outputs": [
    {
     "name": "stdout",
     "output_type": "stream",
     "text": [
      "True\n"
     ]
    }
   ],
   "source": [
    "c = a>b\n",
    "print(c)"
   ]
  },
  {
   "cell_type": "code",
   "execution_count": 25,
   "id": "c1b9d18a-c8b8-4ab3-ab8f-57d90672633e",
   "metadata": {},
   "outputs": [
    {
     "name": "stdout",
     "output_type": "stream",
     "text": [
      "<class 'bool'>\n"
     ]
    }
   ],
   "source": [
    "print(type(c))"
   ]
  },
  {
   "cell_type": "code",
   "execution_count": 26,
   "id": "9cc1000a-b75e-46ea-ae7f-0fa8432e84d9",
   "metadata": {},
   "outputs": [
    {
     "name": "stdout",
     "output_type": "stream",
     "text": [
      "False\n"
     ]
    }
   ],
   "source": [
    "c = a<b\n",
    "print(c)"
   ]
  },
  {
   "cell_type": "code",
   "execution_count": 27,
   "id": "53142424-a548-40ea-bd59-7b8e3ff3bb32",
   "metadata": {},
   "outputs": [
    {
     "name": "stdout",
     "output_type": "stream",
     "text": [
      "True\n"
     ]
    }
   ],
   "source": [
    "c = a!=b\n",
    "print(c)"
   ]
  },
  {
   "cell_type": "code",
   "execution_count": 30,
   "id": "7264fd64-3d97-4a56-a98e-704aff265394",
   "metadata": {},
   "outputs": [
    {
     "name": "stdout",
     "output_type": "stream",
     "text": [
      "True\n"
     ]
    }
   ],
   "source": [
    "a = True\n",
    "b = False\n",
    "print(a|b)"
   ]
  },
  {
   "cell_type": "code",
   "execution_count": 36,
   "id": "b5e8350d-4904-428d-80e7-e4fd68611cc2",
   "metadata": {},
   "outputs": [
    {
     "data": {
      "text/plain": [
       "'hi my name is isha.'"
      ]
     },
     "execution_count": 36,
     "metadata": {},
     "output_type": "execute_result"
    }
   ],
   "source": [
    "string = \"hi my name is isha.\"\n",
    "string.replace(\"praci\",\"shubham\")"
   ]
  },
  {
   "cell_type": "code",
   "execution_count": 37,
   "id": "e512ab07-0f91-4122-bf13-b1d7961d7b8d",
   "metadata": {},
   "outputs": [
    {
     "data": {
      "text/plain": [
       "14"
      ]
     },
     "execution_count": 37,
     "metadata": {},
     "output_type": "execute_result"
    }
   ],
   "source": [
    "string.find(\"isha\")"
   ]
  },
  {
   "cell_type": "code",
   "execution_count": null,
   "id": "546e0b72-3b22-4448-b100-af89ebfd812a",
   "metadata": {},
   "outputs": [],
   "source": []
  }
 ],
 "metadata": {
  "kernelspec": {
   "display_name": "Python 3 (ipykernel)",
   "language": "python",
   "name": "python3"
  },
  "language_info": {
   "codemirror_mode": {
    "name": "ipython",
    "version": 3
   },
   "file_extension": ".py",
   "mimetype": "text/x-python",
   "name": "python",
   "nbconvert_exporter": "python",
   "pygments_lexer": "ipython3",
   "version": "3.9.9"
  }
 },
 "nbformat": 4,
 "nbformat_minor": 5
}
