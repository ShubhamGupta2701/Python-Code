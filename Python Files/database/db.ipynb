{
 "cells": [
  {
   "cell_type": "code",
   "execution_count": 39,
   "id": "aa33c521-97d6-476d-bc1d-4b54bfd1d526",
   "metadata": {},
   "outputs": [],
   "source": [
    "import mysql.connector\n",
    "db = mysql.connector.connect(host = \"localhost\",user = \"root\",password = \"lucifer\")\n",
    "a = db.cursor()"
   ]
  },
  {
   "cell_type": "code",
   "execution_count": 40,
   "id": "410e1f45-7a51-4252-817c-bc8621840bc9",
   "metadata": {},
   "outputs": [],
   "source": [
    "a.execute(\"create database new\")"
   ]
  },
  {
   "cell_type": "code",
   "execution_count": 41,
   "id": "19ab20e8-c383-4a6b-a0c4-5bbdb4a9bfa5",
   "metadata": {},
   "outputs": [],
   "source": [
    "a.execute(\"use new\")"
   ]
  },
  {
   "cell_type": "code",
   "execution_count": null,
   "id": "ccf9ccc0-cdb7-413e-9753-bf38e4bea9d0",
   "metadata": {},
   "outputs": [],
   "source": [
    "a.execute(\"create table student(name varchar(30),roll_no int)\")\n",
    "a."
   ]
  }
 ],
 "metadata": {
  "kernelspec": {
   "display_name": "Python 3 (ipykernel)",
   "language": "python",
   "name": "python3"
  },
  "language_info": {
   "codemirror_mode": {
    "name": "ipython",
    "version": 3
   },
   "file_extension": ".py",
   "mimetype": "text/x-python",
   "name": "python",
   "nbconvert_exporter": "python",
   "pygments_lexer": "ipython3",
   "version": "3.9.9"
  }
 },
 "nbformat": 4,
 "nbformat_minor": 5
}
