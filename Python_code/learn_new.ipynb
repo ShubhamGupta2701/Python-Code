{
 "cells": [
  {
   "cell_type": "code",
   "execution_count": 1,
   "id": "af1acfde-045b-438e-afb7-c4d6b9806f15",
   "metadata": {},
   "outputs": [
    {
     "name": "stdout",
     "output_type": "stream",
     "text": [
      "b is greater than a\n"
     ]
    }
   ],
   "source": [
    "a = 19\n",
    "b = 20\n",
    "#check which number is greater than other\n",
    "if a>b:\n",
    "    print(\"a is greater than b\")\n",
    "else : \n",
    "    print(\"b is greater than a\")"
   ]
  },
  {
   "cell_type": "code",
   "execution_count": 2,
   "id": "ae5db56b-888f-42d4-83a7-6417b4240a8d",
   "metadata": {},
   "outputs": [
    {
     "name": "stdout",
     "output_type": "stream",
     "text": [
      "Day is tuesday\n"
     ]
    }
   ],
   "source": [
    "a = \"tuesday\"\n",
    "if a == \"monday\":\n",
    "    print(\"day is monday\")\n",
    "elif a == \"tuesday\":\n",
    "    print(\"Day is tuesday\")\n",
    "elif a == \"wednesday\":\n",
    "    print(\"day is wednesday\")\n",
    "else:\n",
    "    print(\"please enter a valid day\")"
   ]
  },
  {
   "cell_type": "code",
   "execution_count": 3,
   "id": "437e155d-3854-4674-9a2e-cdc6e8c5d7aa",
   "metadata": {},
   "outputs": [
    {
     "name": "stdin",
     "output_type": "stream",
     "text": [
      "Enter your age :  21\n"
     ]
    },
    {
     "name": "stdout",
     "output_type": "stream",
     "text": [
      "your age is  21\n"
     ]
    }
   ],
   "source": [
    "a = input(\"Enter your age : \")\n",
    "print(\"your age is \",a)\n"
   ]
  },
  {
   "cell_type": "code",
   "execution_count": null,
   "id": "00f772a9-b71d-4efc-ad18-675915112c3c",
   "metadata": {},
   "outputs": [],
   "source": []
  }
 ],
 "metadata": {
  "kernelspec": {
   "display_name": "Python 3 (ipykernel)",
   "language": "python",
   "name": "python3"
  },
  "language_info": {
   "codemirror_mode": {
    "name": "ipython",
    "version": 3
   },
   "file_extension": ".py",
   "mimetype": "text/x-python",
   "name": "python",
   "nbconvert_exporter": "python",
   "pygments_lexer": "ipython3",
   "version": "3.9.9"
  }
 },
 "nbformat": 4,
 "nbformat_minor": 5
}
